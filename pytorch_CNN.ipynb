{
 "cells": [
  {
   "cell_type": "code",
   "execution_count": 1,
   "metadata": {},
   "outputs": [],
   "source": [
    "import torch\n",
    "import torch.nn as nn\n",
    "import torch.utils.data as Data\n",
    "import torchvision      \n",
    "import matplotlib.pyplot as plt\n",
    "import pandas as pd\n",
    "import numpy as np\n",
    "import pickle\n",
    "from sklearn.model_selection import train_test_split\n",
    "import sys\n",
    "\n",
    "torch.manual_seed(1)    # reproducible\n",
    "np.random.seed(seed = 1)\n",
    "\n",
    "# Hyper Parameters\n",
    "EPOCH = 20           \n",
    "BATCH_SIZE = 500\n",
    "LR = 0.001          "
   ]
  },
  {
   "cell_type": "code",
   "execution_count": 2,
   "metadata": {},
   "outputs": [],
   "source": [
    "def random_select_data(array,ratio):\n",
    "    selected_index = np.random.choice(array.shape[0],int(array.shape[0]/ratio),replace=False)\n",
    "    array_selected = array[selected_index]\n",
    "    return array_selected\n",
    "def shuffle_along_axis(a, axis):\n",
    "    np.random.seed(1)\n",
    "    idx = np.random.rand(*a.shape).argsort(axis=axis)\n",
    "    return np.take_along_axis(a,idx,axis=axis)"
   ]
  },
  {
   "cell_type": "code",
   "execution_count": 3,
   "metadata": {},
   "outputs": [],
   "source": [
    "# Prepare training data and testing data\n",
    "with open(\"termite_g2_scaffold_image_dict_scaffold19|size10660809_fragment.pickle\", \"rb\") as handle:\n",
    "    unserialized_training_data = pickle.load(handle)"
   ]
  },
  {
   "cell_type": "code",
   "execution_count": 4,
   "metadata": {},
   "outputs": [],
   "source": [
    "# OPTION!!! Prepare random negative data\n",
    "with open(\"termite_g2_scaffold_RANDOM_image_array_100000_65_2_10_fragment.pickle\", \"rb\") as handle:\n",
    "    random_negative_data = pickle.load(handle)"
   ]
  },
  {
   "cell_type": "code",
   "execution_count": null,
   "metadata": {},
   "outputs": [],
   "source": []
  },
  {
   "cell_type": "code",
   "execution_count": 5,
   "metadata": {},
   "outputs": [
    {
     "name": "stdout",
     "output_type": "stream",
     "text": [
      "Positive data:  (59821, 2, 65)\n",
      "Negative data:  (100000, 2, 65)\n"
     ]
    }
   ],
   "source": [
    "# Make training and testing data\n",
    "temp_stack_array = np.concatenate([unserialized_training_data[x] for x in unserialized_training_data], 0)\n",
    "temp_stack_array_read_layer = temp_stack_array[:,1,32]\n",
    "temp_stack_array_read_layer[temp_stack_array_read_layer != 0].shape\n",
    "temp_stack_array_label = np.zeros(temp_stack_array.shape[0])\n",
    "for index in np.arange(0,temp_stack_array.shape[0]):\n",
    "    if len(temp_stack_array[index,1,:][temp_stack_array[index,1,:] != 0]):\n",
    "        temp_stack_array_label[index] = 1 \n",
    "pos_array_ori = temp_stack_array[temp_stack_array_label == 1]\n",
    "neg_array_ori = temp_stack_array[temp_stack_array_label == 0]\n",
    "\n",
    "######## Make random selected negative data\n",
    "#neg_array_ori_selected = random_select_data(neg_array_ori,4)\n",
    "\n",
    "# OPTION!USE RANDOM DATA\n",
    "neg_array_ori_selected = random_select_data(random_negative_data,1)\n",
    "pos_array_ori = random_select_data(pos_array_ori,2)\n",
    "\n",
    "\n",
    "print(\"Positive data: \", pos_array_ori.shape)\n",
    "print(\"Negative data: \", neg_array_ori_selected.shape)"
   ]
  },
  {
   "cell_type": "code",
   "execution_count": 6,
   "metadata": {},
   "outputs": [
    {
     "name": "stdout",
     "output_type": "stream",
     "text": [
      "Training image:  (119865, 1, 2, 65)\n",
      "Training label:  (119865,)\n",
      "Testing image:  (39956, 1, 2, 65)\n",
      "Testing label:  (39956,)\n"
     ]
    }
   ],
   "source": [
    "POS_NEG_COMBINE_IMAGE = np.concatenate((pos_array_ori,neg_array_ori_selected),axis=0)\n",
    "POS_LABEL = np.ones(pos_array_ori.shape[0])\n",
    "NEG_LABEL = np.zeros(neg_array_ori_selected.shape[0])\n",
    "POS_NEG_COMBINE_LABEL = np.concatenate((POS_LABEL,NEG_LABEL),axis=0)\n",
    "\n",
    "\n",
    "POS_NEG_COMBINE_IMAGE_shuffle = shuffle_along_axis(POS_NEG_COMBINE_IMAGE, axis = 0)\n",
    "POS_NEG_COMBINE_LABEL_shuffle = shuffle_along_axis(POS_NEG_COMBINE_LABEL, axis = 0)\n",
    "\n",
    "# Separate training and testing data\n",
    "X_train, X_test, y_train, y_test = train_test_split(POS_NEG_COMBINE_IMAGE_shuffle, POS_NEG_COMBINE_LABEL_shuffle, test_size=0.25, random_state=42)\n",
    "X_train = np.expand_dims(X_train, axis=1)\n",
    "X_test = np.expand_dims(X_test, axis=1)\n",
    "\n",
    "print(\"Training image: \", X_train.shape)\n",
    "print(\"Training label: \", y_train.shape)\n",
    "print(\"Testing image: \", X_test.shape)\n",
    "print(\"Testing label: \", y_test.shape)"
   ]
  },
  {
   "cell_type": "code",
   "execution_count": null,
   "metadata": {},
   "outputs": [],
   "source": []
  },
  {
   "cell_type": "code",
   "execution_count": 7,
   "metadata": {},
   "outputs": [
    {
     "name": "stdout",
     "output_type": "stream",
     "text": [
      "Training image:  torch.Size([119865, 1, 2, 65])\n",
      "Training label:  torch.Size([119865])\n",
      "Testing image:  torch.Size([39956, 1, 2, 65])\n",
      "Testing label:  torch.Size([39956])\n"
     ]
    }
   ],
   "source": [
    "# Numpy to Torch\n",
    "X_train_torch = torch.from_numpy(X_train)\n",
    "X_test_torch = torch.from_numpy(X_test)\n",
    "y_train_torch = torch.from_numpy(y_train)\n",
    "y_test_torch = torch.from_numpy(y_test)\n",
    "\n",
    "X_train_torch = X_train_torch.float()\n",
    "y_train_torch = y_train_torch.long() \n",
    "\n",
    "X_test_torch = X_test_torch.float()\n",
    "y_test_torch = y_test_torch.long()\n",
    "\n",
    "print(\"Training image: \", X_train_torch.shape)\n",
    "print(\"Training label: \", y_train_torch.shape)\n",
    "print(\"Testing image: \", X_test_torch.shape)\n",
    "print(\"Testing label: \", y_test_torch.shape)"
   ]
  },
  {
   "cell_type": "code",
   "execution_count": 8,
   "metadata": {},
   "outputs": [],
   "source": [
    "# Make batch\n",
    "trainloader = torch.utils.data.DataLoader(X_train_torch, batch_size=100, shuffle=False, num_workers=8) \n",
    "trainloader_label = torch.utils.data.DataLoader(y_train_torch, batch_size=100, shuffle=False, num_workers=8)"
   ]
  },
  {
   "cell_type": "code",
   "execution_count": 11,
   "metadata": {},
   "outputs": [
    {
     "name": "stdout",
     "output_type": "stream",
     "text": [
      "CNN(\n",
      "  (conv1): Sequential(\n",
      "    (0): Conv2d(1, 16, kernel_size=(3, 3), stride=(1, 1), padding=(1, 1))\n",
      "    (1): ReLU()\n",
      "    (2): MaxPool2d(kernel_size=2, stride=2, padding=0, dilation=1, ceil_mode=False)\n",
      "  )\n",
      "  (conv2): Sequential(\n",
      "    (0): Conv2d(16, 32, kernel_size=(1, 1), stride=(1, 1))\n",
      "    (1): ReLU()\n",
      "  )\n",
      "  (conv3): Sequential(\n",
      "    (0): Conv2d(32, 64, kernel_size=(1, 1), stride=(1, 1))\n",
      "    (1): ReLU()\n",
      "  )\n",
      "  (out): Linear(in_features=2048, out_features=2, bias=True)\n",
      ")\n"
     ]
    }
   ],
   "source": [
    "class CNN(nn.Module):\n",
    "    def __init__(self):\n",
    "        super(CNN, self).__init__()\n",
    "        self.conv1 = nn.Sequential(  # input shape (1, 28, 28) (1,2,65)\n",
    "            nn.Conv2d(\n",
    "                in_channels=1,      # input height\n",
    "                out_channels=16,    # n_filters\n",
    "                kernel_size=3,      # filter size\n",
    "                stride=1,           # filter movement/step\n",
    "                padding=1,      # 如果想要 con2d 出来的图片长宽没有变化, padding=(kernel_size-1)/2 当 stride=1\n",
    "            ),      # output shape (16, 28, 28)\n",
    "            nn.ReLU(),    # activation\n",
    "            nn.MaxPool2d(kernel_size=2),    # 在 2x2 空间里向下采样, output shape (16, 14, 14) (16,1,33)\n",
    "        )\n",
    "        self.conv2 = nn.Sequential(  # input shape (16, 14, 14) (16,1,33)\n",
    "            nn.Conv2d(16, 32, 1, 1, padding=0),  # output shape (32, 14, 14) (32,1,33)\n",
    "            nn.ReLU(),  # activation\n",
    "            #nn.MaxPool2d(2),  # output shape (32, 7, 7)\n",
    "        )\n",
    "        self.conv3 = nn.Sequential(  # input shape (16, 14, 14) (16,1,33)\n",
    "            nn.Conv2d(32, 64, 1, 1, padding=0),  # output shape (32, 14, 14) (32,1,33)\n",
    "            nn.ReLU(),  # activation\n",
    "            #nn.MaxPool2d(2),  # output shape (32, 7, 7)\n",
    "        )\n",
    "        \n",
    "        self.out = nn.Linear(32 * 1 * 64, 2)   # fully connected layer, output 10 classes\n",
    "\n",
    "    def forward(self, x):\n",
    "        x = self.conv1(x)\n",
    "        x = self.conv2(x)\n",
    "        x = self.conv3(x)\n",
    "        x = x.view(x.size(0), -1)   # 展平多维的卷积图成 (batch_size, 32 * 7 * 7)\n",
    "        output = self.out(x)\n",
    "        return output\n",
    "\n",
    "cnn = CNN()\n",
    "print(cnn)  # net architecture"
   ]
  },
  {
   "cell_type": "code",
   "execution_count": 13,
   "metadata": {},
   "outputs": [
    {
     "name": "stdout",
     "output_type": "stream",
     "text": [
      "epoch:  0\n",
      "Loss in epoch 0  =  0.006632203524806784\n",
      "Accuracy in epoch 0  =  0.6264047052934552\n",
      "True positive:  19  /  119865\n",
      "True negative:  75065  /  119865\n",
      "False positive:  38  /  119865\n",
      "False negative:  44743  /  119865\n",
      "=====================================================\n",
      "epoch:  1\n",
      "Loss in epoch 1  =  0.0066102150145616505\n",
      "Accuracy in epoch 1  =  0.6265548742335127\n",
      "True positive:  0  /  119865\n",
      "True negative:  75102  /  119865\n",
      "False positive:  1  /  119865\n",
      "False negative:  44762  /  119865\n",
      "=====================================================\n",
      "epoch:  2\n",
      "Loss in epoch 2  =  0.006610405165636062\n",
      "Accuracy in epoch 2  =  0.6265632169524048\n",
      "True positive:  2  /  119865\n",
      "True negative:  75101  /  119865\n",
      "False positive:  2  /  119865\n",
      "False negative:  44760  /  119865\n",
      "=====================================================\n",
      "epoch:  3\n",
      "Loss in epoch 3  =  0.006609926006251261\n",
      "Accuracy in epoch 3  =  0.6265632169524048\n",
      "True positive:  0  /  119865\n",
      "True negative:  75103  /  119865\n",
      "False positive:  0  /  119865\n",
      "False negative:  44762  /  119865\n",
      "=====================================================\n",
      "epoch:  4\n",
      "Loss in epoch 4  =  0.006609927044042891\n",
      "Accuracy in epoch 4  =  0.6265632169524048\n",
      "True positive:  0  /  119865\n",
      "True negative:  75103  /  119865\n",
      "False positive:  0  /  119865\n",
      "False negative:  44762  /  119865\n",
      "=====================================================\n",
      "epoch:  5\n",
      "Loss in epoch 5  =  0.0066099275790998105\n",
      "Accuracy in epoch 5  =  0.6265632169524048\n",
      "True positive:  0  /  119865\n",
      "True negative:  75103  /  119865\n",
      "False positive:  0  /  119865\n",
      "False negative:  44762  /  119865\n",
      "=====================================================\n",
      "epoch:  6\n",
      "Loss in epoch 6  =  0.006609927630318085\n",
      "Accuracy in epoch 6  =  0.6265632169524048\n",
      "True positive:  0  /  119865\n",
      "True negative:  75103  /  119865\n",
      "False positive:  0  /  119865\n",
      "False negative:  44762  /  119865\n",
      "=====================================================\n",
      "epoch:  7\n",
      "14.93%\r"
     ]
    },
    {
     "ename": "KeyboardInterrupt",
     "evalue": "",
     "output_type": "error",
     "traceback": [
      "\u001b[0;31m---------------------------------------------------------------------------\u001b[0m",
      "\u001b[0;31mKeyboardInterrupt\u001b[0m                         Traceback (most recent call last)",
      "\u001b[0;32m<ipython-input-13-baee5bebc8b9>\u001b[0m in \u001b[0;36m<module>\u001b[0;34m\u001b[0m\n\u001b[1;32m     28\u001b[0m         \u001b[0msys\u001b[0m\u001b[0;34m.\u001b[0m\u001b[0mstdout\u001b[0m\u001b[0;34m.\u001b[0m\u001b[0mflush\u001b[0m\u001b[0;34m(\u001b[0m\u001b[0;34m)\u001b[0m\u001b[0;34m\u001b[0m\u001b[0m\n\u001b[1;32m     29\u001b[0m \u001b[0;34m\u001b[0m\u001b[0m\n\u001b[0;32m---> 30\u001b[0;31m         \u001b[0moutput\u001b[0m \u001b[0;34m=\u001b[0m \u001b[0mcnn\u001b[0m\u001b[0;34m(\u001b[0m\u001b[0mb_x\u001b[0m\u001b[0;34m)\u001b[0m               \u001b[0;31m# cnn output\u001b[0m\u001b[0;34m\u001b[0m\u001b[0m\n\u001b[0m\u001b[1;32m     31\u001b[0m         \u001b[0mloss\u001b[0m \u001b[0;34m=\u001b[0m \u001b[0mloss_func\u001b[0m\u001b[0;34m(\u001b[0m\u001b[0moutput\u001b[0m\u001b[0;34m,\u001b[0m \u001b[0mb_y\u001b[0m\u001b[0;34m)\u001b[0m   \u001b[0;31m# cross entropy loss\u001b[0m\u001b[0;34m\u001b[0m\u001b[0m\n\u001b[1;32m     32\u001b[0m         \u001b[0moptimizer\u001b[0m\u001b[0;34m.\u001b[0m\u001b[0mzero_grad\u001b[0m\u001b[0;34m(\u001b[0m\u001b[0;34m)\u001b[0m           \u001b[0;31m# clear gradients for this training step\u001b[0m\u001b[0;34m\u001b[0m\u001b[0m\n",
      "\u001b[0;32m/usr/local/lib/python3.5/dist-packages/torch/nn/modules/module.py\u001b[0m in \u001b[0;36m__call__\u001b[0;34m(self, *input, **kwargs)\u001b[0m\n\u001b[1;32m    545\u001b[0m             \u001b[0mresult\u001b[0m \u001b[0;34m=\u001b[0m \u001b[0mself\u001b[0m\u001b[0;34m.\u001b[0m\u001b[0m_slow_forward\u001b[0m\u001b[0;34m(\u001b[0m\u001b[0;34m*\u001b[0m\u001b[0minput\u001b[0m\u001b[0;34m,\u001b[0m \u001b[0;34m**\u001b[0m\u001b[0mkwargs\u001b[0m\u001b[0;34m)\u001b[0m\u001b[0;34m\u001b[0m\u001b[0m\n\u001b[1;32m    546\u001b[0m         \u001b[0;32melse\u001b[0m\u001b[0;34m:\u001b[0m\u001b[0;34m\u001b[0m\u001b[0m\n\u001b[0;32m--> 547\u001b[0;31m             \u001b[0mresult\u001b[0m \u001b[0;34m=\u001b[0m \u001b[0mself\u001b[0m\u001b[0;34m.\u001b[0m\u001b[0mforward\u001b[0m\u001b[0;34m(\u001b[0m\u001b[0;34m*\u001b[0m\u001b[0minput\u001b[0m\u001b[0;34m,\u001b[0m \u001b[0;34m**\u001b[0m\u001b[0mkwargs\u001b[0m\u001b[0;34m)\u001b[0m\u001b[0;34m\u001b[0m\u001b[0m\n\u001b[0m\u001b[1;32m    548\u001b[0m         \u001b[0;32mfor\u001b[0m \u001b[0mhook\u001b[0m \u001b[0;32min\u001b[0m \u001b[0mself\u001b[0m\u001b[0;34m.\u001b[0m\u001b[0m_forward_hooks\u001b[0m\u001b[0;34m.\u001b[0m\u001b[0mvalues\u001b[0m\u001b[0;34m(\u001b[0m\u001b[0;34m)\u001b[0m\u001b[0;34m:\u001b[0m\u001b[0;34m\u001b[0m\u001b[0m\n\u001b[1;32m    549\u001b[0m             \u001b[0mhook_result\u001b[0m \u001b[0;34m=\u001b[0m \u001b[0mhook\u001b[0m\u001b[0;34m(\u001b[0m\u001b[0mself\u001b[0m\u001b[0;34m,\u001b[0m \u001b[0minput\u001b[0m\u001b[0;34m,\u001b[0m \u001b[0mresult\u001b[0m\u001b[0;34m)\u001b[0m\u001b[0;34m\u001b[0m\u001b[0m\n",
      "\u001b[0;32m<ipython-input-11-0b81884ad4ee>\u001b[0m in \u001b[0;36mforward\u001b[0;34m(self, x)\u001b[0m\n\u001b[1;32m     29\u001b[0m         \u001b[0mx\u001b[0m \u001b[0;34m=\u001b[0m \u001b[0mself\u001b[0m\u001b[0;34m.\u001b[0m\u001b[0mconv1\u001b[0m\u001b[0;34m(\u001b[0m\u001b[0mx\u001b[0m\u001b[0;34m)\u001b[0m\u001b[0;34m\u001b[0m\u001b[0m\n\u001b[1;32m     30\u001b[0m         \u001b[0mx\u001b[0m \u001b[0;34m=\u001b[0m \u001b[0mself\u001b[0m\u001b[0;34m.\u001b[0m\u001b[0mconv2\u001b[0m\u001b[0;34m(\u001b[0m\u001b[0mx\u001b[0m\u001b[0;34m)\u001b[0m\u001b[0;34m\u001b[0m\u001b[0m\n\u001b[0;32m---> 31\u001b[0;31m         \u001b[0mx\u001b[0m \u001b[0;34m=\u001b[0m \u001b[0mself\u001b[0m\u001b[0;34m.\u001b[0m\u001b[0mconv3\u001b[0m\u001b[0;34m(\u001b[0m\u001b[0mx\u001b[0m\u001b[0;34m)\u001b[0m\u001b[0;34m\u001b[0m\u001b[0m\n\u001b[0m\u001b[1;32m     32\u001b[0m         \u001b[0mx\u001b[0m \u001b[0;34m=\u001b[0m \u001b[0mx\u001b[0m\u001b[0;34m.\u001b[0m\u001b[0mview\u001b[0m\u001b[0;34m(\u001b[0m\u001b[0mx\u001b[0m\u001b[0;34m.\u001b[0m\u001b[0msize\u001b[0m\u001b[0;34m(\u001b[0m\u001b[0;36m0\u001b[0m\u001b[0;34m)\u001b[0m\u001b[0;34m,\u001b[0m \u001b[0;34m-\u001b[0m\u001b[0;36m1\u001b[0m\u001b[0;34m)\u001b[0m   \u001b[0;31m# 展平多维的卷积图成 (batch_size, 32 * 7 * 7)\u001b[0m\u001b[0;34m\u001b[0m\u001b[0m\n\u001b[1;32m     33\u001b[0m         \u001b[0moutput\u001b[0m \u001b[0;34m=\u001b[0m \u001b[0mself\u001b[0m\u001b[0;34m.\u001b[0m\u001b[0mout\u001b[0m\u001b[0;34m(\u001b[0m\u001b[0mx\u001b[0m\u001b[0;34m)\u001b[0m\u001b[0;34m\u001b[0m\u001b[0m\n",
      "\u001b[0;32m/usr/local/lib/python3.5/dist-packages/torch/nn/modules/module.py\u001b[0m in \u001b[0;36m__call__\u001b[0;34m(self, *input, **kwargs)\u001b[0m\n\u001b[1;32m    545\u001b[0m             \u001b[0mresult\u001b[0m \u001b[0;34m=\u001b[0m \u001b[0mself\u001b[0m\u001b[0;34m.\u001b[0m\u001b[0m_slow_forward\u001b[0m\u001b[0;34m(\u001b[0m\u001b[0;34m*\u001b[0m\u001b[0minput\u001b[0m\u001b[0;34m,\u001b[0m \u001b[0;34m**\u001b[0m\u001b[0mkwargs\u001b[0m\u001b[0;34m)\u001b[0m\u001b[0;34m\u001b[0m\u001b[0m\n\u001b[1;32m    546\u001b[0m         \u001b[0;32melse\u001b[0m\u001b[0;34m:\u001b[0m\u001b[0;34m\u001b[0m\u001b[0m\n\u001b[0;32m--> 547\u001b[0;31m             \u001b[0mresult\u001b[0m \u001b[0;34m=\u001b[0m \u001b[0mself\u001b[0m\u001b[0;34m.\u001b[0m\u001b[0mforward\u001b[0m\u001b[0;34m(\u001b[0m\u001b[0;34m*\u001b[0m\u001b[0minput\u001b[0m\u001b[0;34m,\u001b[0m \u001b[0;34m**\u001b[0m\u001b[0mkwargs\u001b[0m\u001b[0;34m)\u001b[0m\u001b[0;34m\u001b[0m\u001b[0m\n\u001b[0m\u001b[1;32m    548\u001b[0m         \u001b[0;32mfor\u001b[0m \u001b[0mhook\u001b[0m \u001b[0;32min\u001b[0m \u001b[0mself\u001b[0m\u001b[0;34m.\u001b[0m\u001b[0m_forward_hooks\u001b[0m\u001b[0;34m.\u001b[0m\u001b[0mvalues\u001b[0m\u001b[0;34m(\u001b[0m\u001b[0;34m)\u001b[0m\u001b[0;34m:\u001b[0m\u001b[0;34m\u001b[0m\u001b[0m\n\u001b[1;32m    549\u001b[0m             \u001b[0mhook_result\u001b[0m \u001b[0;34m=\u001b[0m \u001b[0mhook\u001b[0m\u001b[0;34m(\u001b[0m\u001b[0mself\u001b[0m\u001b[0;34m,\u001b[0m \u001b[0minput\u001b[0m\u001b[0;34m,\u001b[0m \u001b[0mresult\u001b[0m\u001b[0;34m)\u001b[0m\u001b[0;34m\u001b[0m\u001b[0m\n",
      "\u001b[0;32m/usr/local/lib/python3.5/dist-packages/torch/nn/modules/container.py\u001b[0m in \u001b[0;36mforward\u001b[0;34m(self, input)\u001b[0m\n\u001b[1;32m     90\u001b[0m     \u001b[0;32mdef\u001b[0m \u001b[0mforward\u001b[0m\u001b[0;34m(\u001b[0m\u001b[0mself\u001b[0m\u001b[0;34m,\u001b[0m \u001b[0minput\u001b[0m\u001b[0;34m)\u001b[0m\u001b[0;34m:\u001b[0m\u001b[0;34m\u001b[0m\u001b[0m\n\u001b[1;32m     91\u001b[0m         \u001b[0;32mfor\u001b[0m \u001b[0mmodule\u001b[0m \u001b[0;32min\u001b[0m \u001b[0mself\u001b[0m\u001b[0;34m.\u001b[0m\u001b[0m_modules\u001b[0m\u001b[0;34m.\u001b[0m\u001b[0mvalues\u001b[0m\u001b[0;34m(\u001b[0m\u001b[0;34m)\u001b[0m\u001b[0;34m:\u001b[0m\u001b[0;34m\u001b[0m\u001b[0m\n\u001b[0;32m---> 92\u001b[0;31m             \u001b[0minput\u001b[0m \u001b[0;34m=\u001b[0m \u001b[0mmodule\u001b[0m\u001b[0;34m(\u001b[0m\u001b[0minput\u001b[0m\u001b[0;34m)\u001b[0m\u001b[0;34m\u001b[0m\u001b[0m\n\u001b[0m\u001b[1;32m     93\u001b[0m         \u001b[0;32mreturn\u001b[0m \u001b[0minput\u001b[0m\u001b[0;34m\u001b[0m\u001b[0m\n\u001b[1;32m     94\u001b[0m \u001b[0;34m\u001b[0m\u001b[0m\n",
      "\u001b[0;32m/usr/local/lib/python3.5/dist-packages/torch/nn/modules/module.py\u001b[0m in \u001b[0;36m__call__\u001b[0;34m(self, *input, **kwargs)\u001b[0m\n\u001b[1;32m    545\u001b[0m             \u001b[0mresult\u001b[0m \u001b[0;34m=\u001b[0m \u001b[0mself\u001b[0m\u001b[0;34m.\u001b[0m\u001b[0m_slow_forward\u001b[0m\u001b[0;34m(\u001b[0m\u001b[0;34m*\u001b[0m\u001b[0minput\u001b[0m\u001b[0;34m,\u001b[0m \u001b[0;34m**\u001b[0m\u001b[0mkwargs\u001b[0m\u001b[0;34m)\u001b[0m\u001b[0;34m\u001b[0m\u001b[0m\n\u001b[1;32m    546\u001b[0m         \u001b[0;32melse\u001b[0m\u001b[0;34m:\u001b[0m\u001b[0;34m\u001b[0m\u001b[0m\n\u001b[0;32m--> 547\u001b[0;31m             \u001b[0mresult\u001b[0m \u001b[0;34m=\u001b[0m \u001b[0mself\u001b[0m\u001b[0;34m.\u001b[0m\u001b[0mforward\u001b[0m\u001b[0;34m(\u001b[0m\u001b[0;34m*\u001b[0m\u001b[0minput\u001b[0m\u001b[0;34m,\u001b[0m \u001b[0;34m**\u001b[0m\u001b[0mkwargs\u001b[0m\u001b[0;34m)\u001b[0m\u001b[0;34m\u001b[0m\u001b[0m\n\u001b[0m\u001b[1;32m    548\u001b[0m         \u001b[0;32mfor\u001b[0m \u001b[0mhook\u001b[0m \u001b[0;32min\u001b[0m \u001b[0mself\u001b[0m\u001b[0;34m.\u001b[0m\u001b[0m_forward_hooks\u001b[0m\u001b[0;34m.\u001b[0m\u001b[0mvalues\u001b[0m\u001b[0;34m(\u001b[0m\u001b[0;34m)\u001b[0m\u001b[0;34m:\u001b[0m\u001b[0;34m\u001b[0m\u001b[0m\n\u001b[1;32m    549\u001b[0m             \u001b[0mhook_result\u001b[0m \u001b[0;34m=\u001b[0m \u001b[0mhook\u001b[0m\u001b[0;34m(\u001b[0m\u001b[0mself\u001b[0m\u001b[0;34m,\u001b[0m \u001b[0minput\u001b[0m\u001b[0;34m,\u001b[0m \u001b[0mresult\u001b[0m\u001b[0;34m)\u001b[0m\u001b[0;34m\u001b[0m\u001b[0m\n",
      "\u001b[0;32m/usr/local/lib/python3.5/dist-packages/torch/nn/modules/activation.py\u001b[0m in \u001b[0;36mforward\u001b[0;34m(self, input)\u001b[0m\n\u001b[1;32m     92\u001b[0m \u001b[0;34m\u001b[0m\u001b[0m\n\u001b[1;32m     93\u001b[0m     \u001b[0;32mdef\u001b[0m \u001b[0mforward\u001b[0m\u001b[0;34m(\u001b[0m\u001b[0mself\u001b[0m\u001b[0;34m,\u001b[0m \u001b[0minput\u001b[0m\u001b[0;34m)\u001b[0m\u001b[0;34m:\u001b[0m\u001b[0;34m\u001b[0m\u001b[0m\n\u001b[0;32m---> 94\u001b[0;31m         \u001b[0;32mreturn\u001b[0m \u001b[0mF\u001b[0m\u001b[0;34m.\u001b[0m\u001b[0mrelu\u001b[0m\u001b[0;34m(\u001b[0m\u001b[0minput\u001b[0m\u001b[0;34m,\u001b[0m \u001b[0minplace\u001b[0m\u001b[0;34m=\u001b[0m\u001b[0mself\u001b[0m\u001b[0;34m.\u001b[0m\u001b[0minplace\u001b[0m\u001b[0;34m)\u001b[0m\u001b[0;34m\u001b[0m\u001b[0m\n\u001b[0m\u001b[1;32m     95\u001b[0m \u001b[0;34m\u001b[0m\u001b[0m\n\u001b[1;32m     96\u001b[0m     \u001b[0;32mdef\u001b[0m \u001b[0mextra_repr\u001b[0m\u001b[0;34m(\u001b[0m\u001b[0mself\u001b[0m\u001b[0;34m)\u001b[0m\u001b[0;34m:\u001b[0m\u001b[0;34m\u001b[0m\u001b[0m\n",
      "\u001b[0;32m/usr/local/lib/python3.5/dist-packages/torch/nn/functional.py\u001b[0m in \u001b[0;36mrelu\u001b[0;34m(input, inplace)\u001b[0m\n\u001b[1;32m    911\u001b[0m         \u001b[0mresult\u001b[0m \u001b[0;34m=\u001b[0m \u001b[0mtorch\u001b[0m\u001b[0;34m.\u001b[0m\u001b[0mrelu_\u001b[0m\u001b[0;34m(\u001b[0m\u001b[0minput\u001b[0m\u001b[0;34m)\u001b[0m\u001b[0;34m\u001b[0m\u001b[0m\n\u001b[1;32m    912\u001b[0m     \u001b[0;32melse\u001b[0m\u001b[0;34m:\u001b[0m\u001b[0;34m\u001b[0m\u001b[0m\n\u001b[0;32m--> 913\u001b[0;31m         \u001b[0mresult\u001b[0m \u001b[0;34m=\u001b[0m \u001b[0mtorch\u001b[0m\u001b[0;34m.\u001b[0m\u001b[0mrelu\u001b[0m\u001b[0;34m(\u001b[0m\u001b[0minput\u001b[0m\u001b[0;34m)\u001b[0m\u001b[0;34m\u001b[0m\u001b[0m\n\u001b[0m\u001b[1;32m    914\u001b[0m     \u001b[0;32mreturn\u001b[0m \u001b[0mresult\u001b[0m\u001b[0;34m\u001b[0m\u001b[0m\n\u001b[1;32m    915\u001b[0m \u001b[0;34m\u001b[0m\u001b[0m\n",
      "\u001b[0;31mKeyboardInterrupt\u001b[0m: "
     ]
    }
   ],
   "source": [
    "optimizer = torch.optim.Adam(cnn.parameters(), lr=LR)   # optimize all cnn parameters\n",
    "loss_func = nn.CrossEntropyLoss()   # the target label is not one-hotted\n",
    "correct = 0\n",
    "total = 0\n",
    "loss_list = []\n",
    "accuracy_list = []\n",
    "TP_list = []\n",
    "TN_list = []\n",
    "FP_list = []\n",
    "FN_list = []\n",
    "\n",
    "\n",
    "# training and testing\n",
    "step_length = len(trainloader)\n",
    "\n",
    "for epoch in range(EPOCH):\n",
    "    print(\"epoch: \", epoch)\n",
    "    LOSS = 0\n",
    "    ACC = 0\n",
    "    TP = 0\n",
    "    TN = 0\n",
    "    FP = 0\n",
    "    FN = 0\n",
    "    sum_epoch = 0\n",
    "    for step, (b_x, b_y) in enumerate(zip(trainloader, trainloader_label)):   \n",
    "        processing = str(round(((step)/ step_length * 100),2)) + \"%\" +\"\\r\"\n",
    "        sys.stdout.write(processing)\n",
    "        sys.stdout.flush()\n",
    "        \n",
    "        output = cnn(b_x)               # cnn output\n",
    "        loss = loss_func(output, b_y)   # cross entropy loss\n",
    "        optimizer.zero_grad()           # clear gradients for this training step\n",
    "        loss.backward()                 # backpropagation, compute gradients\n",
    "        optimizer.step()                # apply gradients\n",
    "        \n",
    "        pred_temp = torch.max(output, 1)[1].data.numpy().squeeze()\n",
    "        LOSS += loss.item()\n",
    "        b_y_numpy = b_y.numpy()\n",
    "        ACC += len(b_y_numpy[b_y_numpy == pred_temp])\n",
    "        TP += sum((b_y_numpy == 1) & (pred_temp == 1))\n",
    "        TN += sum((b_y_numpy == 0) & (pred_temp == 0))\n",
    "        FP += sum((b_y_numpy == 0) & (pred_temp == 1))\n",
    "        FN += sum((b_y_numpy == 1) & (pred_temp == 0))\n",
    "        sum_epoch += len(b_y_numpy)\n",
    "        \n",
    "        \n",
    "    print(\"Loss in epoch\", epoch,\" = \", LOSS/sum_epoch)\n",
    "    print(\"Accuracy in epoch\", epoch,\" = \", ACC/sum_epoch)\n",
    "    print(\"True positive: \", TP,\" / \",sum_epoch)\n",
    "    print(\"True negative: \", TN,\" / \",sum_epoch)\n",
    "    print(\"False positive: \", FP,\" / \",sum_epoch)\n",
    "    print(\"False negative: \", FN,\" / \",sum_epoch)\n",
    "    loss_list.append(LOSS/sum_epoch)\n",
    "    accuracy_list.append(ACC/sum_epoch)\n",
    "    TP_list.append(TP)\n",
    "    TN_list.append(TN)\n",
    "    FP_list.append(FP)\n",
    "    FN_list.append(FN)\n",
    "    \n",
    "    print(\"=====================================================\")"
   ]
  },
  {
   "cell_type": "code",
   "execution_count": null,
   "metadata": {},
   "outputs": [],
   "source": [
    "test_output = cnn(X_test_torch)\n",
    "pred_y = torch.max(test_output, 1)[1].data.numpy().squeeze()\n",
    "from sklearn.metrics import accuracy_score\n",
    "accuracy_score(y_test, pred_y)"
   ]
  },
  {
   "cell_type": "code",
   "execution_count": 19,
   "metadata": {},
   "outputs": [
    {
     "data": {
      "text/plain": [
       "(54911,)"
      ]
     },
     "execution_count": 19,
     "metadata": {},
     "output_type": "execute_result"
    }
   ],
   "source": [
    "pred_y[pred_y==1].shape"
   ]
  },
  {
   "cell_type": "code",
   "execution_count": null,
   "metadata": {},
   "outputs": [],
   "source": []
  },
  {
   "cell_type": "code",
   "execution_count": null,
   "metadata": {},
   "outputs": [],
   "source": []
  },
  {
   "cell_type": "code",
   "execution_count": null,
   "metadata": {},
   "outputs": [],
   "source": []
  },
  {
   "cell_type": "code",
   "execution_count": null,
   "metadata": {},
   "outputs": [],
   "source": []
  },
  {
   "cell_type": "code",
   "execution_count": null,
   "metadata": {},
   "outputs": [],
   "source": []
  }
 ],
 "metadata": {
  "kernelspec": {
   "display_name": "Python 3",
   "language": "python",
   "name": "python3"
  },
  "language_info": {
   "codemirror_mode": {
    "name": "ipython",
    "version": 3
   },
   "file_extension": ".py",
   "mimetype": "text/x-python",
   "name": "python",
   "nbconvert_exporter": "python",
   "pygments_lexer": "ipython3",
   "version": "3.5.2"
  }
 },
 "nbformat": 4,
 "nbformat_minor": 2
}
