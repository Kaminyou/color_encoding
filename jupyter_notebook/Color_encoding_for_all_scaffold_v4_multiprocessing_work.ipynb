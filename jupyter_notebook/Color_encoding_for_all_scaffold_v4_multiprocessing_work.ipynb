{
 "cells": [
  {
   "cell_type": "code",
   "execution_count": 1,
   "metadata": {},
   "outputs": [],
   "source": [
    "import re\n",
    "import pandas as pd\n",
    "import matplotlib.pyplot as plt\n",
    "import numpy as np\n",
    "import pickle\n",
    "import sys\n",
    "from Bio import SeqIO\n",
    "from multiprocessing import Pool"
   ]
  },
  {
   "cell_type": "code",
   "execution_count": 2,
   "metadata": {},
   "outputs": [],
   "source": [
    "'''\n",
    "Color encoding\n",
    "'''\n",
    "# SETTING\n",
    "pixel_max = 254 #Customerization\n",
    "\n",
    "# CHANNEL 0: BASE\n",
    "base_color_stride = 70 #Customerization\n",
    "offset_a_g = 40 #Customerization\n",
    "offset_t_c = 30 #Customerization\n",
    "\n",
    "# CHANNEL 1: BASE QUALITY\n",
    "default_quality = 0\n",
    "base_quality_cap = 40\n",
    "\n",
    "# CHANNEL 2: MAPPING QUALITY\n",
    "mapping_set_empty = 255 #Customerization\n",
    "mapping_quality_cap = 60 #Customerization\n",
    "\n",
    "# CHANNEL 3: ON POSITIVE STRAND\n",
    "set_empty = 255 #Customerization\n",
    "positive_strand = 70 #Customerization\n",
    "negative_strand = 240 #Customerization\n",
    "\n",
    "# CHANNEL 4: MATCH REFERENCE\n",
    "pixel_max = 254 #Customerization\n",
    "not_match_ref = pixel_max * 1 #Customerization\n",
    "match_ref = pixel_max * 0.2 #Customerization\n",
    "ref_not_provided = 255 #Customerization\n",
    "\n",
    "# TO RGB\n",
    "pixel_max_empty_def = 255\n",
    "\n",
    "#############################################################################################\n",
    "# CHANNEL 1: Base quality\n",
    "    \n",
    "def base_to_color_full_array_input(x):\n",
    "    A = base_color_stride * 3 + offset_a_g\n",
    "    T = base_color_stride * 2 + offset_t_c\n",
    "    C = base_color_stride * 1 + offset_t_c\n",
    "    G = base_color_stride * 0 + offset_a_g\n",
    "    empty_to_fill = np.zeros(x.shape)\n",
    "    empty_to_fill[x == \"A\"] = A\n",
    "    empty_to_fill[x == \"T\"] = T\n",
    "    empty_to_fill[x == \"C\"] = C\n",
    "    empty_to_fill[x == \"G\"] = G\n",
    "    empty_to_fill[x == \"a\"] = A\n",
    "    empty_to_fill[x == \"t\"] = T\n",
    "    empty_to_fill[x == \"c\"] = C\n",
    "    empty_to_fill[x == \"g\"] = G\n",
    "    empty_to_fill[x == \"N\"] = 0\n",
    "    empty_to_fill[x == \"D\"] = 0\n",
    "    return empty_to_fill\n",
    "\n",
    "\n",
    "# CHANNEL 1: Base quality\n",
    "Quality_Score_Encoding = {\"!\":0,\"\\\"\":1,\"#\":2,\"$\":3,\"%\":4,\"&\":5,\n",
    "                          \"\\'\":6,\"(\":7,\")\":8,\"*\":9,\"+\":10,\",\":11,\n",
    "                          \"-\":12,\".\":13,\"/\":14,\"0\":15,\"1\":16,\"2\":17,\"3\":18,\n",
    "                         \"4\":19,\"5\":20,\"6\":21,\"7\":22,\"8\":23,\"9\":24,\":\":25,\n",
    "                          \";\":26,\"<\":27,\"=\":28,\">\":29,\"?\":30,\"@\":31,\"A\":32,\n",
    "                         \"B\":33,\"C\":34,\"D\":35,\"E\":36,\"F\":37,\"G\":38,\"H\":39,\"I\":40}\n",
    "def base_quality_mapping(x):\n",
    "    if x in Quality_Score_Encoding.keys():\n",
    "        quailty = Quality_Score_Encoding[x]\n",
    "    else:\n",
    "        quailty = default_quality\n",
    "\n",
    "# CHANNEL 2: Mapping quality\n",
    "def mapping_quality_fill(array, mapping_quality):\n",
    "    \n",
    "    to_fill = min(mapping_quality, mapping_quality_cap) / mapping_quality_cap * pixel_max\n",
    "    mapping_quality_temp = np.full(array.shape, mapping_set_empty)\n",
    "    mapping_quality_temp[array != \"\"] = to_fill\n",
    "    mapping_quality_temp[array == \"N\"] = mapping_set_empty\n",
    "    mapping_quality_temp[array == \"D\"] = mapping_set_empty\n",
    "    \n",
    "    return mapping_quality_temp\n",
    "    \n",
    "\n",
    "# CHANNEL 3: On positive strand\n",
    "def on_positive_strand_fill(array, positive_flag):\n",
    "    \n",
    "    on_positive_strand_temp = np.full(array.shape, set_empty)\n",
    "    to_fill = positive_strand\n",
    "\n",
    "    binary_flag = np.binary_repr(positive_flag)\n",
    "    if (len(binary_flag) >= 5) and (list(binary_flag)[-5] == \"1\"):\n",
    "        to_fill = negative_strand\n",
    "    \n",
    "    on_positive_strand_temp[array != \"\"] = to_fill\n",
    "    on_positive_strand_temp[array == \"N\"] = set_empty\n",
    "    on_positive_strand_temp[array == \"D\"] = set_empty\n",
    "\n",
    "    return on_positive_strand_temp\n",
    "\n",
    "\n",
    "# CHANNEL 4: Match reference\n",
    "def match_ref_fill(depth, window, array):\n",
    "    \n",
    "    empty = np.full((depth, window), ref_not_provided, dtype = int)\n",
    "    for i in np.arange(0, array.shape[1]):\n",
    "        for j in np.arange(1, array.shape[0]):\n",
    "            if array[j,i] == \"\":\n",
    "                break\n",
    "            elif array[j,i] == \"N\":\n",
    "                if array[0,i] == \"N\":\n",
    "                    break\n",
    "                else:\n",
    "                    empty[j,i] = not_match_ref\n",
    "            elif array[j,i] == array[0,i]:\n",
    "                empty[j,i] = match_ref\n",
    "            else:\n",
    "                empty[j,i] = ref_not_provided\n",
    "    return empty\n",
    "\n",
    "\n",
    "# COMBINE CHANNEL TO RGB\n",
    "def channels_to_RGB(pixel_max_empty_def,\n",
    "                    pre_image_base_color, \n",
    "                    pre_image_mapping_quality, \n",
    "                    pre_image_on_positive_strand, \n",
    "                    pre_image_match_ref, \n",
    "                    use_alpha = False):\n",
    "    x_dimension = pre_image_base_color.shape[0]\n",
    "    y_dimension = pre_image_base_color.shape[1]\n",
    "    z_dimension = pre_image_base_color.shape[2]\n",
    "    r_dimension = 3\n",
    "    RGB = np.zeros((x_dimension, y_dimension, z_dimension, r_dimension))\n",
    "    \n",
    "    if use_alpha == True: \n",
    "        alpha = pre_image_match_ref / pixel_max_empty_def\n",
    "        RGB[:,:,:,0] = np.multiply(pre_image_base_color, alpha)\n",
    "        RGB[:,:,:,1] = np.multiply(pre_image_mapping_quality, alpha)\n",
    "        RGB[:,:,:,2] = np.multiply(pre_image_on_positive_strand, alpha)\n",
    "    else: \n",
    "        RGB[:,:,:,0] = pre_image_base_color\n",
    "        RGB[:,:,:,1] = pre_image_mapping_quality\n",
    "        RGB[:,:,:,2] = pre_image_on_positive_strand\n",
    "    RGB = RGB.astype(int)\n",
    "    return RGB"
   ]
  },
  {
   "cell_type": "code",
   "execution_count": 3,
   "metadata": {},
   "outputs": [],
   "source": [
    "'''\n",
    "Preprocessing\n",
    "'''\n",
    "def cigar_to_list(cigar): # NOT NEED TO USE THIS! THIS FUNCTION IS INCLUDED IN refine_read_by_cigar BELOW\n",
    "    '''\n",
    "    Deal with cigar \n",
    "    Split an unsplit cigar list to separated cigar array by number of each condition.\n",
    "    \n",
    "    2M3S1D2I to MMSSSDII\n",
    "    \n",
    "    Parameters\n",
    "    ----------\n",
    "    cigar : list\n",
    "        One element unseperated cigar list.\n",
    "\n",
    "    Returns\n",
    "    -------\n",
    "    cigar_list : 1D numpy array\n",
    "        A array of cigar.\n",
    "    '''\n",
    "        \n",
    "    separate = np.array([s.strip() for s in re.split(r\"(\\D+)\", cigar)]) # Separate one element cigar list by cigar char \n",
    "    if separate[-1] == \"\": # Delete last empty element if it exists\n",
    "        separate = separate[:-1]\n",
    "\n",
    "\n",
    "    number = separate[::2].astype(int) # Extract number of each cigar\n",
    "    cigar = separate[1::2] # Extract char of cigar\n",
    "\n",
    "    # Cheack if number of elements in two list are same\n",
    "    if len(number) != len(cigar): \n",
    "        print(\"elements are not the same\")\n",
    "\n",
    "    # If number of elements are same, make a array of cigar\n",
    "    else:\n",
    "        cigar_list = []\n",
    "        for i in np.arange(0,len(number)):\n",
    "            for j in np.arange(0,number[i]):\n",
    "                cigar_list.append(cigar[i])\n",
    "        cigar_list = np.array(cigar_list)\n",
    "    \n",
    "    return cigar_list\n",
    "\n",
    "def refine_read_by_cigar(read, cigar): #PLEASE USE THIE TO MAKE REFINED READ FOR ALIGNMENT\n",
    "    '''\n",
    "    To refine reads by cigar list one by one.\n",
    "    \n",
    "    S : Directly delete it and move the behind forward\n",
    "    I : Extract to make a list of inserted element with position and delete it, moving the behind forward\n",
    "    D : Fill \"D\" in reads, move the behind backward\n",
    "    N : Fill \"N\" in reads, move the behind backward\n",
    "    M : Unchange\n",
    "    \n",
    "    Parameters\n",
    "    ----------\n",
    "    read : list\n",
    "        One element unseperated read list.\n",
    "    cigar : list\n",
    "        One element unseperated cigar list.\n",
    "\n",
    "    Returns\n",
    "    -------\n",
    "    refined_read : list\n",
    "        unseparated list of refined-read\n",
    "        \n",
    "    refined_read_insert : 1D numpy array\n",
    "        the inserted element\n",
    "    \n",
    "    refined_read_insert_index_at_ori_read : 1D numpy array\n",
    "        the index of inserted element in the original read (from 0)\n",
    "    \n",
    "    refined_read_insert_index_at_refined_read : 1D numpy array\n",
    "        the index of where to insert the inserted element on refined read (from 0)\n",
    "    '''\n",
    "    cigar_temp_list = cigar_to_list(cigar) # Read cigar and make cigar list by cigar_to_list function\n",
    "    read_temp_list = np.array(list(read)) # Make list of read\n",
    "\n",
    "    refined_read = [] # Make empty list for refined read\n",
    "    ori_read_index = 0 # To keep the original read index for insertion point\n",
    "    refined_read_index = 0 # To keep index of insertion point on refined read\n",
    "    refined_read_insert = [] # Make empty list to keep the insertion\n",
    "    refined_read_insert_index_at_ori_read = [] # FROM 0, make empty list to keep index of insertion on original read\n",
    "    refined_read_insert_index_at_refined_read = [] #FROM 0, make empty list to keep index of insertion on refined read\n",
    "    \n",
    "    # From the first cigar, fill the refined read one by one with original read dependent on the cigar\n",
    "    ## If cigar(+), ori-read(-):\n",
    "        ## \"D\", only refined-index move forward\n",
    "        ## \"N\", only refined-index move forward\n",
    "    ## If cigar(+), ori-read(+): \n",
    "        ## \"I\", only ori-index move forward, but save the information of insertion\n",
    "        ## \"S\", only ori-index move forward\n",
    "        ## \"M\", two of the index move forward\n",
    "    for index, cigar in enumerate(cigar_temp_list): \n",
    "        if cigar == \"S\": #Directly ignore it and move the behind forward\n",
    "            ori_read_index += 1 # Move forward on original index\n",
    "            continue\n",
    "        \n",
    "        if cigar == \"H\": #Directly ignore it and move the behind forward\n",
    "            continue\n",
    "            \n",
    "        if cigar == \"I\": #Extract to make a list of inserted element with position and ignore it, moving the behind forward\n",
    "            refined_read_insert.append(read_temp_list[ori_read_index]) # Save the base\n",
    "            refined_read_insert_index_at_ori_read.append(ori_read_index) # Save where it is on original read \n",
    "            refined_read_insert_index_at_refined_read.append(refined_read_index) # Save where it will be on refined read\n",
    "            ori_read_index += 1 # Move forward on original index\n",
    "            continue\n",
    "            \n",
    "        if cigar == \"D\": # Fill \"D\" in refined read\n",
    "            refined_read.append(\"D\") # Fill \"D\"\n",
    "            refined_read_index += 1 # Move forward on refined_read_index\n",
    "            continue\n",
    "            \n",
    "        if cigar == \"N\": # Fill \"N\" in refined read\n",
    "            refined_read.append(\"N\") # Fill \"N\"\n",
    "            refined_read_index += 1 # Move forward on refined_read_index\n",
    "            continue\n",
    "            \n",
    "        if cigar == \"M\": # Fill the base in refined read\n",
    "            refined_read.append(read_temp_list[ori_read_index]) # Fill the base\n",
    "            ori_read_index += 1 # Move forward on original read index\n",
    "            refined_read_index += 1 # Move forward on refined read index\n",
    "            continue\n",
    "            \n",
    "        else:\n",
    "            print(cigar,\"is not defined at\",index) # If there is any exception, print it\n",
    "            \n",
    "    refined_read = \"\".join(refined_read) # Combine list of the base pair \n",
    "    refined_read_insert = np.array(refined_read_insert)\n",
    "    refined_read_insert_index_at_ori_read = np.array(refined_read_insert_index_at_ori_read)\n",
    "    refined_read_insert_index_at_refined_read = np.array(refined_read_insert_index_at_refined_read)\n",
    "    return refined_read, refined_read_insert, refined_read_insert_index_at_ori_read, refined_read_insert_index_at_refined_read\n",
    "\n",
    "\n",
    "def find_insertion_forbackward(index, skip_range, window, read_selected_matrix, to_use_selected_scaffold_df):\n",
    "    '''\n",
    "    To find if there is any insertion in the window of one locus, \n",
    "    and make dataframes of insertion forward and backward respectively\n",
    "    \n",
    "    Parameters\n",
    "    ----------\n",
    "    index : int\n",
    "        The locus of scaffold.\n",
    "    skip range : int\n",
    "        The range skipped.\n",
    "    window : int\n",
    "        The window of one locus.\n",
    "    read_selected_matrix : numpy array\n",
    "        2D array that includes the information of reads covering one locus\n",
    "    to_use_selected_scaffold_df : pandas.DataFrame\n",
    "        \n",
    "\n",
    "    Returns\n",
    "    -------\n",
    "    forward_df : pandas.DataFrame\n",
    "        a dataframe saving the information of forward insertion : read, index, base, read order\n",
    "        \n",
    "    backward_df : pandas.DataFrame\n",
    "        a dataframe saving the information of backward insertion : read, index, base, read order\n",
    "    '''\n",
    "    forward_i_read = []\n",
    "    forward_i_index = []\n",
    "    forward_i_base = []\n",
    "    forward_i_read_order = [] # FRPM 0 \n",
    "\n",
    "    backward_i_read = []\n",
    "    backward_i_index = []\n",
    "    backward_i_base = []\n",
    "    backward_i_read_order = [] # FROM 0\n",
    "    \n",
    "    # For every read that covers one locus\n",
    "    for read_order, reads in enumerate(read_selected_matrix[(index - skip_range)]): \n",
    "        \n",
    "        if np.isnan(reads): # Until no read, stop the iteration\n",
    "            break\n",
    "\n",
    "        refined_read_i_index = index - to_use_selected_scaffold_df[\"start\"][reads] # To find the index of the locus on one read\n",
    "        start_insertion_index = refined_read_i_index - ((window - 1) / 2) # To find the start point of one read that would be inside the window\n",
    "        end_insertion_index = refined_read_i_index + ((window - 1) / 2) - 1 # To find the end point of one read that would be inside the window\n",
    "        \n",
    "        # Check every insertion index of one read\n",
    "        for insertion_index in to_use_selected_scaffold_df[\"ori insertion index\"][reads]:\n",
    "            if refined_read_i_index <= insertion_index <= end_insertion_index: # If it is after the middle locus but before the end point\n",
    "                forward_i_read.append(reads) # Add the reads\n",
    "                forward_i_index.append(to_use_selected_scaffold_df[\"start\"][reads] + insertion_index) # Where to insert on original index of scaffold\n",
    "                forward_i_base.append(to_use_selected_scaffold_df[\"read\"][reads][insertion_index]) # Add the base\n",
    "                forward_i_read_order.append(read_order) # Add the read order which means the depth if plus 1 cause the first is ref  \n",
    "\n",
    "            elif start_insertion_index <= insertion_index <= (refined_read_i_index - 1): # If it is before the middle locus but after the end point\n",
    "                backward_i_read.append(reads) # Add the reads\n",
    "                backward_i_index.append(to_use_selected_scaffold_df[\"start\"][reads] + insertion_index) # Where to insert on original index of scaffold\n",
    "                backward_i_base.append(to_use_selected_scaffold_df[\"read\"][reads][insertion_index]) # Add the base\n",
    "                backward_i_read_order.append(read_order) # Add the read order which means the depth if plus 1 cause the first is ref  \n",
    "                \n",
    "    forward_df = pd.DataFrame({\"read\": forward_i_read, \"index\": forward_i_index, \"base\":forward_i_base, \"read order\":forward_i_read_order}) # Make the dataframe\n",
    "    backward_df = pd.DataFrame({\"read\": backward_i_read, \"index\": backward_i_index, \"base\":backward_i_base, \"read order\":backward_i_read_order}) # Make the dataframe\n",
    "    \n",
    "    return forward_df, backward_df\n",
    "\n",
    "\n",
    "def insertion_fill_in(index, depth, window, pre_image_char_part, forward_df, backward_df):\n",
    "    '''\n",
    "    If there is any insertion in the window of one locus,\n",
    "    insert it and move the other bases forward and backward \n",
    "    than delete the exceed\n",
    "    \n",
    "    Parameters\n",
    "    ----------\n",
    "    index : int\n",
    "        The locus of scaffold.\n",
    "    depth : int\n",
    "        The depth.\n",
    "    window : int\n",
    "        The window of one locus.\n",
    "    pre_image_char_part : 2D numpy array\n",
    "        The 2D array of one locus: pre_image_char_part = pre_image_char[(index - skip_range),:,:]\n",
    "    forward_df : pandas.DataFrame\n",
    "        The forward dataframe generated by find_insertion_forbackward function\n",
    "    backward_df : pandas.DataFrame\n",
    "        The backward dataframe generated by find_insertion_forbackward function\n",
    "\n",
    "    Returns\n",
    "    -------\n",
    "    pre_image_char_part_output : 2D numpy array\n",
    "        a new 2D array of one locus to replace the original one\n",
    "    '''\n",
    "    # To sort the forward dataframe, ascending order(1->2->3...)\n",
    "    forward_df = forward_df.sort_values(by = \"index\", ascending = True)\n",
    "    \n",
    "    # To extract read order, index, base from forward dataframe\n",
    "    for for_read_order, for_index, for_base in zip(forward_df[\"read order\"], forward_df[\"index\"], forward_df[\"base\"]):\n",
    "        insertion_location = int(for_index - index + ((window - 1) / 2)) # To find the insertion location in the window\n",
    "        insertion_array = np.chararray(depth, unicode = True) # Make a empty array to insert\n",
    "        insertion_array[for_read_order + 1] = for_base # Add the insertion base to the empty array\n",
    "        pre_image_char_part = np.insert(pre_image_char_part, insertion_location, insertion_array, 1) # Insert it\n",
    "    \n",
    "    # To sort the backward dataframe, descending order(3->2->1...)\n",
    "    backward_df = backward_df.sort_values(by = \"index\", ascending = False)\n",
    "    \n",
    "    # To count how many insertion backward for final cutting of the matrix\n",
    "    cut_length = len(backward_df)\n",
    "    \n",
    "    # To extract read order, index, base from backward dataframe\n",
    "    for back_read_order, back_index, back_base in zip(backward_df[\"read order\"], backward_df[\"index\"], backward_df[\"base\"]):\n",
    "        insertion_location = int(back_index - index + ((window - 1) / 2)) # To find the insertion location in the window\n",
    "        insertion_array = np.chararray(depth, unicode = True) # Make a empty array to insert\n",
    "        insertion_array[back_read_order + 1] = back_base # Add the insertion base to the empty array\n",
    "        pre_image_char_part = np.insert(pre_image_char_part, insertion_location, insertion_array, 1) # Insert it\n",
    "\n",
    "    # Cut the required part: if 2 backward insertion and 3 forward insertion with window, extract 2 : 2+window-1    \n",
    "    pre_image_char_part_output = pre_image_char_part[:,(cut_length):(cut_length + window)]\n",
    "    \n",
    "    return pre_image_char_part_output"
   ]
  },
  {
   "cell_type": "code",
   "execution_count": 4,
   "metadata": {},
   "outputs": [],
   "source": [
    "'''\n",
    "Read fasta file\n",
    "'''\n",
    "def read_fasta(fasta):\n",
    "    fasta_sequences = SeqIO.parse(open(fasta),\"fasta\")\n",
    "    fasta_name = []\n",
    "    fasta_sequence = []\n",
    "    for fasta in fasta_sequences:\n",
    "        name, sequence = fasta.id, str(fasta.seq)\n",
    "        fasta_name.append(name)\n",
    "        fasta_sequence.append(sequence)\n",
    "    fasta_dict = {\"scaffold\":fasta_name,\"sequence\":fasta_sequence}\n",
    "    fasta_df = pd.DataFrame(fasta_dict)\n",
    "    fasta_df[\"len\"] = fasta_df[\"sequence\"].str.len()\n",
    "    return fasta_df"
   ]
  },
  {
   "cell_type": "code",
   "execution_count": 5,
   "metadata": {},
   "outputs": [],
   "source": [
    "'''\n",
    "Read sam file\n",
    "'''\n",
    "def read_sam(samfile):\n",
    "    # Read sam file\n",
    "    sam=[]\n",
    "    with open(samfile, \"r\") as f:\n",
    "        for line in f.readlines():\n",
    "            sam.append(line.split(\"\\t\"))\n",
    "    sam = np.array(sam)\n",
    "    return sam"
   ]
  },
  {
   "cell_type": "code",
   "execution_count": 6,
   "metadata": {},
   "outputs": [],
   "source": [
    "'''\n",
    "Scaffold fliter\n",
    "'''\n",
    "def scaffold_min_and_max(fasta_df, minimum, maximum):\n",
    "    mask_min = (fasta_df[\"len\"] >= minimum)\n",
    "    mask_max = (fasta_df[\"len\"] <= maximum)\n",
    "    fasta_df_fliter = fasta_df[(mask_min & mask_max)]\n",
    "    return fasta_df_fliter"
   ]
  },
  {
   "cell_type": "code",
   "execution_count": 7,
   "metadata": {},
   "outputs": [],
   "source": [
    "'''\n",
    "For each scaffold, find coveraging read in the sam\n",
    "'''\n",
    "def find_read_based_on_scaffold(scaffold_name, sam):\n",
    "    # Find index of selected scaffold in bam\n",
    "    scaffold_in_sam = list([i for i,item in enumerate(sam) if scaffold_name in item])\n",
    "\n",
    "    # Make a DataFrame for selected scaffold information\n",
    "\n",
    "    selected_scaffold_df = [sam[i] for i in scaffold_in_sam]\n",
    "    selected_scaffold_df = pd.DataFrame(selected_scaffold_df)\n",
    "    return selected_scaffold_df"
   ]
  },
  {
   "cell_type": "code",
   "execution_count": 8,
   "metadata": {},
   "outputs": [],
   "source": [
    "'''\n",
    "Select useful information in dafaframe of selected scaffold\n",
    "'''\n",
    "def make_read_scaffold_df(selected_scaffold_df):\n",
    "    \n",
    "    pd.options.mode.chained_assignment = None\n",
    "    to_use_selected_scaffold_df_pre = selected_scaffold_df[[1,2,3,4,5,9]]\n",
    "    to_use_selected_scaffold_df = to_use_selected_scaffold_df_pre[to_use_selected_scaffold_df_pre[9] != \"*\"]\n",
    "    to_use_selected_scaffold_df.columns = [\"flag\",\"scaffold\",\"start\",\"mapping quality\",\"cigar\",\"read\"]\n",
    "    to_use_selected_scaffold_df[\"read length\"] = to_use_selected_scaffold_df[\"read\"].str.len()\n",
    "    to_use_selected_scaffold_df[\"start\"] = to_use_selected_scaffold_df[\"start\"].astype('int64')\n",
    "    to_use_selected_scaffold_df[\"mapping quality\"] = to_use_selected_scaffold_df[\"mapping quality\"].astype('int64')\n",
    "    to_use_selected_scaffold_df[\"flag\"] = to_use_selected_scaffold_df[\"flag\"].astype('int64')\n",
    "    to_use_selected_scaffold_df[\"end\"] = (to_use_selected_scaffold_df[\"start\"] + to_use_selected_scaffold_df[\"read length\"] - 1)\n",
    "    to_use_selected_scaffold_df[\"refined_by_cigar\"] = to_use_selected_scaffold_df.apply(lambda x: refine_read_by_cigar(x[\"read\"], x[\"cigar\"]), axis=1)\n",
    "    to_use_selected_scaffold_df[[\"refined read\", \n",
    "                                 \"insertion\",\n",
    "                                 \"ori insertion index\",\n",
    "                                 \"re insertion index\"]] = pd.DataFrame(to_use_selected_scaffold_df[\"refined_by_cigar\"].tolist(), index=to_use_selected_scaffold_df.index)\n",
    "    to_use_selected_scaffold_df.drop(columns=[\"refined_by_cigar\"],inplace=True)\n",
    "    to_use_selected_scaffold_df[\"refined read length\"] = to_use_selected_scaffold_df[\"refined read\"].str.len()\n",
    "    to_use_selected_scaffold_df[\"refined end\"] = (to_use_selected_scaffold_df[\"start\"] + to_use_selected_scaffold_df[\"refined read length\"] - 1)\n",
    "    \n",
    "    return to_use_selected_scaffold_df"
   ]
  },
  {
   "cell_type": "code",
   "execution_count": 9,
   "metadata": {},
   "outputs": [],
   "source": [
    "'''\n",
    "Make a matrix of reads which meet the criteria of each locus\n",
    "'''\n",
    "def make_read_selected_matrix_find_reads(index):\n",
    "    mask1 = to_use_selected_scaffold_df[\"start\"] <= index + ALL_TOUCH_INCLUDED * ((window + 1) / 2)\n",
    "    mask2 = to_use_selected_scaffold_df[\"refined end\"] >= index + ALL_TOUCH_INCLUDED * ((window + 1) / 2)\n",
    "    read_selected_array = np.empty(depth)\n",
    "    length = len(to_use_selected_scaffold_df[(mask1 & mask2)].index)\n",
    "    read_selected_array[:] = np.nan\n",
    "    read_selected_array[0:length] = to_use_selected_scaffold_df[(mask1 & mask2)].index\n",
    "    \n",
    "    #processing = \"Finding read on \" + str(index) +\"\\r\"\n",
    "    #sys.stdout.write(processing)\n",
    "    #sys.stdout.flush()\n",
    "\n",
    "    return read_selected_array\n",
    "\n",
    "def make_read_selected_matrix(scaffold_name, to_use_selected_scaffold_df, window, skip_range, depth, core = 20):\n",
    "    \n",
    "    # Interval for searching\n",
    "    #searching_interval = np.arange(skip_range, 200000) ## Only for testing\n",
    "    \n",
    "    searching_interval = np.arange(skip_range, (fasta_df[fasta_df[\"scaffold\"] == scaffold_name][\"len\"].values[0] + 1 )) \n",
    "    searching_interval_length = len(searching_interval)\n",
    "\n",
    "    # Search every base that are in this interval\n",
    "    # And select feasible reads for each base on locus of genome\n",
    "    if __name__ == \"__main__\" :  \n",
    "        \n",
    "        pool = Pool(core) # Pool() \n",
    "        read_selected_matrix = pool.map(make_read_selected_matrix_find_reads, searching_interval) \n",
    "        pool.close()  \n",
    "        pool.join()   \n",
    "    \n",
    "    read_selected_matrix = np.array(read_selected_matrix)\n",
    "        \n",
    "    return read_selected_matrix, searching_interval\n"
   ]
  },
  {
   "cell_type": "code",
   "execution_count": 10,
   "metadata": {
    "scrolled": true
   },
   "outputs": [],
   "source": [
    "'''\n",
    "Make a 4 dimension matrix of pre-image base \n",
    "'''\n",
    "def fill_ori_base_from_ref(index):\n",
    "    # To search the base based on index\n",
    "    # From index=0~the last one, means from the first one to the last\n",
    "    pre_pre_image_char_matrix = np.chararray((depth, window), unicode = True)\n",
    "    # FIRST!!! FILL ref at depth=0\n",
    "    # From start point \"0\" to end point \"window - 1\" \n",
    "    middle = ((window - 1) / 2) # Index not order\n",
    "    scaffold_max_length = fasta_df[fasta_df[\"scaffold\"] == scaffold_name][\"len\"].values[0]\n",
    "\n",
    "    # at \"0\" fill: (index - middle)\n",
    "    # at \"coverage interval - 1\" fill: (index + middle) \n",
    "    # This is index of what to fill\n",
    "    fasta_fill_index_start = (index - middle) # Order not index\n",
    "    fasta_fill_index_end = (index + middle) # Order not index\n",
    "\n",
    "    # Set all the element to \"N\" first\n",
    "    pre_pre_image_char_matrix[0, :] = \"N\"\n",
    "    base_fill_index_start = 0\n",
    "    base_fill_index_end = window\n",
    "    if fasta_fill_index_start < 1:\n",
    "        base_fill_index_start = int(np.abs(fasta_fill_index_start - 1))\n",
    "        fasta_fill_index_start = 1\n",
    "\n",
    "    elif fasta_fill_index_end > scaffold_max_length:\n",
    "        base_fill_index_end = int((scaffold_max_length - fasta_fill_index_end))\n",
    "        fasta_fill_index_end = scaffold_max_length\n",
    "    \n",
    "    #processing = \"Fill ref on \" + str(index) +\"\\r\"\n",
    "    #sys.stdout.write(processing)\n",
    "    #sys.stdout.flush()\n",
    "    \n",
    "    pre_pre_image_char_matrix[0, base_fill_index_start:base_fill_index_end] = np.array(list(fasta_df[fasta_df[\"scaffold\"]==scaffold_name][\"sequence\"].values[0][int(fasta_fill_index_start - 1):int(fasta_fill_index_end)]))   \n",
    "    \n",
    "    for i, reads in enumerate(read_selected_matrix[(index - skip_range)]):\n",
    "        # If there is no read or until the end of the coverage, jump to the next locus\n",
    "        if np.isnan(reads):\n",
    "            break\n",
    "\n",
    "        else:\n",
    "            read_start = to_use_selected_scaffold_df[\"start\"][reads] # To find the start point of the read\n",
    "            read_end = to_use_selected_scaffold_df[\"refined end\"][reads] # To find the end point of the read\n",
    "\n",
    "            pre_pre_image_char_matrix[(i+1), :] = \"N\"\n",
    "            image_read_fill_start = 0\n",
    "            image_read_fill_end = int(window)\n",
    "            read_fill_start = int(fasta_fill_index_start - read_start)\n",
    "            read_fill_end = int(fasta_fill_index_end - read_start) + 1\n",
    "\n",
    "            if read_start > fasta_fill_index_start:\n",
    "                image_read_fill_start = int(read_start - fasta_fill_index_start)\n",
    "                pre_pre_image_char_matrix[(i+1), image_read_fill_start:image_read_fill_end] = np.array(list(to_use_selected_scaffold_df[\"refined read\"][reads][:read_fill_end]))\n",
    "\n",
    "            elif read_end < fasta_fill_index_end:\n",
    "                image_read_fill_end = int(read_end - fasta_fill_index_end)\n",
    "                pre_pre_image_char_matrix[(i+1), image_read_fill_start:image_read_fill_end] = np.array(list(to_use_selected_scaffold_df[\"refined read\"][reads][read_fill_start:]))\n",
    "\n",
    "            else:    \n",
    "                pre_pre_image_char_matrix[(i+1), image_read_fill_start:image_read_fill_end] = np.array(list(to_use_selected_scaffold_df[\"refined read\"][reads][read_fill_start:read_fill_end]))\n",
    "\n",
    "    \n",
    "    \n",
    "    return pre_pre_image_char_matrix\n",
    "\n",
    "def image_pileup(scaffold_name, \n",
    "                 fasta_df, \n",
    "                 read_selected_matrix, \n",
    "                 to_use_selected_scaffold_df, \n",
    "                 window, \n",
    "                 depth, \n",
    "                 searching_interval, \n",
    "                 pixel_max, \n",
    "                 bias_of_read, \n",
    "                 mapping_quality_not_provide, \n",
    "                 on_positive_strand_not_provide, \n",
    "                 not_match_ref, core = 20):\n",
    "    \n",
    "    # 3 dimention maxtrix initialization: base(char), base color(int), base quality(char), on postive strand(int)\n",
    "    ## x: searching_interval \n",
    "    ## y: depth\n",
    "    ## z: coverage read interval\n",
    "    ####coverage_interval = (length_of_read * 2 -1 + bias_of_read) \n",
    "    window = 149\n",
    "    searching_interval_length = len(searching_interval)\n",
    "\n",
    "    #pre_image_char = np.chararray(((searching_interval_length), depth, window), unicode = True)\n",
    "    pre_image_base_color = np.zeros(((searching_interval_length), depth, window), dtype = int)\n",
    "    pre_image_mapping_quality = np.full(((searching_interval_length), depth, window), mapping_quality_not_provide, dtype = int)\n",
    "    pre_image_on_positive_strand = np.full(((searching_interval_length), depth, window), on_positive_strand_not_provide, dtype = int)\n",
    "    pre_image_match_ref = np.full(((searching_interval_length), depth, window), not_match_ref, dtype = int)\n",
    "\n",
    "    scaffold_max_length = fasta_df[fasta_df[\"scaffold\"] == scaffold_name][\"len\"].values[0]\n",
    "    middle = ((window - 1) / 2) # Index not order\n",
    "    \n",
    "    # FIRST!!! FILL REF\n",
    "    # SECOND!!! FILL read at depth=1~\n",
    "    if __name__ == \"__main__\" :  \n",
    "        \n",
    "        pool = Pool(core) # Pool() \n",
    "        pre_image_char = pool.map(fill_ori_base_from_ref, searching_interval) \n",
    "        pool.close()  \n",
    "        pool.join()  \n",
    "        \n",
    "        pre_image_char = np.array(pre_image_char)\n",
    "    \n",
    "    # Find each base in interval in genome\n",
    "    for index in searching_interval:\n",
    "        \n",
    "        # THIRD!!! DEAL WITH REF = \"N\"\n",
    "        for i in np.arange(0, pre_image_char.shape[2]): # For all the element in the window\n",
    "            if pre_image_char[(index - skip_range), 0, i] == \"N\": # Check the top element is \"N\" or not\n",
    "                A = np.count_nonzero(pre_image_char[(index - skip_range), :, i] == \"A\") # Count \"A\" \n",
    "                T = np.count_nonzero(pre_image_char[(index - skip_range), :, i] == \"T\") # Count \"T\"\n",
    "                C = np.count_nonzero(pre_image_char[(index - skip_range), :, i] == \"C\") # Count \"C\"\n",
    "                G = np.count_nonzero(pre_image_char[(index - skip_range), :, i] == \"G\") # Count \"G\"\n",
    "                N = np.count_nonzero(pre_image_char[(index - skip_range), :, i] == \"N\") # Count \"N\"\n",
    "\n",
    "                base_count_list = np.array([A, T, C, G, N]) # Make a list of base\n",
    "                base_unique_list = np.array([\"A\", \"T\", \"C\", \"G\", \"N\"]) # Make a list of index of the base\n",
    "                base_count_list_sort = np.sort(base_count_list) # Sort the list of base\n",
    "                if base_count_list_sort[-1] != base_count_list_sort[-2]: # To check if there any duplicated most frequent elements\n",
    "                    pre_image_char[(index - skip_range), 0, i] == base_unique_list[base_count_list.argmax()] # If no, fill the most frequent one\n",
    "\n",
    "        # FOURTH!!! DEAL WITH THE INSERTION\n",
    "        forward_df, backward_df = find_insertion_forbackward(index, skip_range, window, read_selected_matrix, to_use_selected_scaffold_df)\n",
    "        if (len(forward_df) != 0) or  (len(backward_df) != 0): # If there is any insertion, use pre_image_char function\n",
    "            pre_image_char[(index - skip_range), :, :] = insertion_fill_in(index, depth, window, pre_image_char[(index - skip_range), :, :], forward_df, backward_df)\n",
    "        \n",
    "        # FIFTH! Give the color\n",
    "        pre_image_base_color[(index - skip_range), :, :] = base_to_color_full_array_input(pre_image_char[(index - skip_range), :, :])\n",
    "\n",
    "        # SIXTH!! MAPPING QUALITY\n",
    "        for i, reads in enumerate(read_selected_matrix[(index - skip_range)]):\n",
    "            # If there is no read or until the end of the coverage, jump to the next locus\n",
    "            if np.isnan(reads):\n",
    "                break\n",
    "            else:\n",
    "                mapping_quality = to_use_selected_scaffold_df[\"mapping quality\"][reads]\n",
    "                pre_image_mapping_quality[(index - skip_range), (i + 1), :] = mapping_quality_fill(pre_image_char[(index - skip_range), (i+1), :], mapping_quality)\n",
    "\n",
    "        # SEVENTH!! ON POSITIVE STRAND\n",
    "        for i, reads in enumerate(read_selected_matrix[(index - skip_range)]):\n",
    "            # If there is no read or until the end of the coverage, jump to the next locus\n",
    "            if np.isnan(reads):\n",
    "                break\n",
    "            else:\n",
    "                positive_flag = to_use_selected_scaffold_df[\"flag\"][reads]\n",
    "                pre_image_on_positive_strand[(index - skip_range), (i + 1), :] = on_positive_strand_fill(pre_image_char[(index - skip_range), (i+1), :], positive_flag)\n",
    "\n",
    "        # EIGHTH!! MATCH REFERENCE\n",
    "        pre_image_match_ref[(index - skip_range), :, :] = match_ref_fill(depth, window, pre_image_char[(index - skip_range), :, :])\n",
    "\n",
    "        processing = \"Image pileup on locus \" + str(index) +\"/\" + str(searching_interval_length) + \" | \" + str(round(((index)/ searching_interval_length * 100),2)) + \"%\" +\"\\r\"\n",
    "        sys.stdout.write(processing)\n",
    "        sys.stdout.flush()\n",
    "        \n",
    "    return pre_image_base_color, pre_image_mapping_quality, pre_image_on_positive_strand, pre_image_match_ref"
   ]
  },
  {
   "cell_type": "code",
   "execution_count": 11,
   "metadata": {},
   "outputs": [],
   "source": [
    "'''\n",
    "Visualization of one locus\n",
    "'''\n",
    "def visualization_locus(locus, RGB):\n",
    "    final_plot = RGB\n",
    "    final_index = locus - skip_range\n",
    "    print(final_index)\n",
    "\n",
    "    plt.figure(figsize=(30,5))\n",
    "    plt.subplot(4,1,1)\n",
    "    plt.imshow(final_plot[final_index,:,:,:])\n",
    "    plt.title(\"Locus = %s\" %locus)\n",
    "    plt.ylabel(\"RGB\")\n",
    "    plt.show()\n",
    "\n",
    "    plt.figure(figsize=(50,5))\n",
    "    plt.subplot(4,2,2)\n",
    "    plt.imshow(final_plot[final_index,:,:,0],cmap='gray')\n",
    "    plt.ylabel(\"Base\")\n",
    "    plt.show()\n",
    "\n",
    "    plt.figure(figsize=(60,5))\n",
    "    plt.subplot(4,3,3)\n",
    "    plt.imshow(final_plot[final_index,:,:,1],cmap='gray')\n",
    "    plt.ylabel(\"Mapping quality\")\n",
    "    plt.show()\n",
    "\n",
    "    plt.figure(figsize=(80,5))\n",
    "    plt.subplot(4,4,4)\n",
    "    plt.imshow(final_plot[final_index,:,:,2],cmap='gray')\n",
    "    plt.ylabel(\"On positive strand\")\n",
    "    plt.show()"
   ]
  },
  {
   "cell_type": "code",
   "execution_count": null,
   "metadata": {},
   "outputs": [],
   "source": []
  },
  {
   "cell_type": "markdown",
   "metadata": {},
   "source": [
    "# Part 1: Input\n",
    "## Input fasta file"
   ]
  },
  {
   "cell_type": "code",
   "execution_count": 12,
   "metadata": {},
   "outputs": [],
   "source": [
    "'''\n",
    "Read fasta file\n",
    "'''\n",
    "fasta_df_ori = read_fasta(\"termite_genome2.fasta\")"
   ]
  },
  {
   "cell_type": "code",
   "execution_count": 13,
   "metadata": {},
   "outputs": [],
   "source": [
    "'''\n",
    "Read sam file\n",
    "'''\n",
    "sam = read_sam(\"termite_g2.sam\")"
   ]
  },
  {
   "cell_type": "code",
   "execution_count": 14,
   "metadata": {},
   "outputs": [],
   "source": [
    "'''\n",
    "Set the min and max of scaffold\n",
    "'''\n",
    "minimum = 1550000 #Customerization\n",
    "maximum = 1600000 #Customerization\n",
    "fasta_df = scaffold_min_and_max(fasta_df_ori, minimum, maximum)"
   ]
  },
  {
   "cell_type": "code",
   "execution_count": 15,
   "metadata": {},
   "outputs": [
    {
     "data": {
      "text/html": [
       "<div>\n",
       "<style scoped>\n",
       "    .dataframe tbody tr th:only-of-type {\n",
       "        vertical-align: middle;\n",
       "    }\n",
       "\n",
       "    .dataframe tbody tr th {\n",
       "        vertical-align: top;\n",
       "    }\n",
       "\n",
       "    .dataframe thead th {\n",
       "        text-align: right;\n",
       "    }\n",
       "</style>\n",
       "<table border=\"1\" class=\"dataframe\">\n",
       "  <thead>\n",
       "    <tr style=\"text-align: right;\">\n",
       "      <th></th>\n",
       "      <th>scaffold</th>\n",
       "      <th>sequence</th>\n",
       "      <th>len</th>\n",
       "    </tr>\n",
       "  </thead>\n",
       "  <tbody>\n",
       "    <tr>\n",
       "      <th>55</th>\n",
       "      <td>NewScaf68</td>\n",
       "      <td>CCATCTTCAGAGTGACTTAGTTTGGTTAAAGTGACCATAATTTTAA...</td>\n",
       "      <td>1577821</td>\n",
       "    </tr>\n",
       "  </tbody>\n",
       "</table>\n",
       "</div>"
      ],
      "text/plain": [
       "     scaffold                                           sequence      len\n",
       "55  NewScaf68  CCATCTTCAGAGTGACTTAGTTTGGTTAAAGTGACCATAATTTTAA...  1577821"
      ]
     },
     "execution_count": 15,
     "metadata": {},
     "output_type": "execute_result"
    }
   ],
   "source": [
    "fasta_df"
   ]
  },
  {
   "cell_type": "code",
   "execution_count": 16,
   "metadata": {},
   "outputs": [
    {
     "ename": "NameError",
     "evalue": "name 'selected_scaffold_df' is not defined",
     "output_type": "error",
     "traceback": [
      "\u001b[0;31m---------------------------------------------------------------------------\u001b[0m",
      "\u001b[0;31mNameError\u001b[0m                                 Traceback (most recent call last)",
      "\u001b[0;32m<ipython-input-16-f9a2e5913b41>\u001b[0m in \u001b[0;36m<module>\u001b[0;34m\u001b[0m\n\u001b[0;32m----> 1\u001b[0;31m \u001b[0mselected_scaffold_df\u001b[0m\u001b[0;34m\u001b[0m\u001b[0m\n\u001b[0m",
      "\u001b[0;31mNameError\u001b[0m: name 'selected_scaffold_df' is not defined"
     ]
    }
   ],
   "source": [
    "selected_scaffold_df"
   ]
  },
  {
   "cell_type": "code",
   "execution_count": 15,
   "metadata": {
    "scrolled": true
   },
   "outputs": [
    {
     "name": "stdout",
     "output_type": "stream",
     "text": [
      "completion  100.0 %\n",
      "start  NewScaf68\n",
      "complete find reads\n",
      "-mage pileup on locus 1577821/1577821 | 100.0%\n",
      "Start combination\n",
      "finish  NewScaf68\n",
      "==========================================\n"
     ]
    }
   ],
   "source": [
    "scaffold_image_dict = {}\n",
    "\n",
    "total_count = len(fasta_df)\n",
    "\n",
    "# For each scaffold \n",
    "for count, scaffold_name in enumerate(fasta_df[\"scaffold\"]):\n",
    "    print(\"completion \",round((count + 1) * 100/total_count, 4), \"%\")\n",
    "    print(\"start \",scaffold_name)\n",
    "    \n",
    "    # Select useful information in dafaframe of selected scaffold\n",
    "    selected_scaffold_df = find_read_based_on_scaffold(scaffold_name, sam)\n",
    "    \n",
    "    if len(selected_scaffold_df) == 0:\n",
    "        print(\"no covered reads\")\n",
    "        print(\"==========================================\")\n",
    "        continue\n",
    "        \n",
    "    to_use_selected_scaffold_df = make_read_scaffold_df(selected_scaffold_df)\n",
    "    \n",
    "    \n",
    "    # Make a matrix of reads which meet the criteria of each locus\n",
    "    # Setting\n",
    "    ALL_TOUCH_INCLUDED = 0 # Customerized: 0=False, 1=True\n",
    "    window = 149 # Please mide if ALL_TOUCH_INCLUDED is True, the setting must be same as the one in the pileup cell \n",
    "    skip_range = 1 #Customerization # MUST START FROM 1\n",
    "    depth = 10 #Customerization\n",
    "\n",
    "    read_selected_matrix, searching_interval = make_read_selected_matrix(scaffold_name, to_use_selected_scaffold_df, window, skip_range, depth, core = 40)\n",
    "    print(\"complete find reads\")\n",
    "    \n",
    "    # Make a 3 dimension image\n",
    "    pixel_max = 254  #Customerization\n",
    "    bias_of_read = 0 #Customerization\n",
    "    mapping_quality_not_provide = 255 #Customerization\n",
    "    on_positive_strand_not_provide = 255 #Customerization\n",
    "    not_match_ref = pixel_max * 1 #Customerization\n",
    "\n",
    "    pre_image_base_color, pre_image_mapping_quality, pre_image_on_positive_strand, pre_image_match_ref = image_pileup(scaffold_name,\n",
    "                             fasta_df, \n",
    "                             read_selected_matrix, \n",
    "                             to_use_selected_scaffold_df, \n",
    "                             window, \n",
    "                             depth, \n",
    "                             searching_interval, \n",
    "                             pixel_max, \n",
    "                             bias_of_read, \n",
    "                             mapping_quality_not_provide, \n",
    "                             on_positive_strand_not_provide, \n",
    "                             not_match_ref, core = 40)\n",
    "    print(\"-\")\n",
    "    print(\"Start combination\")\n",
    "    FINAL_RGB = channels_to_RGB(pixel_max_empty_def,\n",
    "                            pre_image_base_color, \n",
    "                            pre_image_mapping_quality, \n",
    "                            pre_image_on_positive_strand, \n",
    "                            pre_image_match_ref, \n",
    "                            use_alpha = False)\n",
    "    # Save to dictionary\n",
    "    scaffold_image_dict[scaffold_name] = FINAL_RGB\n",
    "\n",
    "    print(\"finish \",scaffold_name)\n",
    "    print(\"==========================================\")\n",
    "\n",
    "# Store data to pickle(serialize)\n",
    "with open(\"termite_g2_scaffold_image_dict_1550K_1600K.pickle\", \"wb\") as handle:\n",
    "    pickle.dump(scaffold_image_dict, handle, protocol=pickle.HIGHEST_PROTOCOL) "
   ]
  },
  {
   "cell_type": "code",
   "execution_count": null,
   "metadata": {},
   "outputs": [],
   "source": []
  },
  {
   "cell_type": "code",
   "execution_count": null,
   "metadata": {},
   "outputs": [],
   "source": []
  },
  {
   "cell_type": "code",
   "execution_count": null,
   "metadata": {},
   "outputs": [],
   "source": [
    "# Store data to pickle(serialize)\n",
    "with open(\"termite_g2_scaffold_image_dict_1500K_1550K.pickle\", \"wb\") as handle:\n",
    "    pickle.dump(scaffold_image_dict, handle, protocol=pickle.HIGHEST_PROTOCOL)"
   ]
  },
  {
   "cell_type": "code",
   "execution_count": 27,
   "metadata": {},
   "outputs": [],
   "source": [
    "# Store data (serialize)\n",
    "with open(\"scaffold_image_dict_v1.pickle\", \"wb\") as handle:\n",
    "    pickle.dump(scaffold_image_dict, handle, protocol=pickle.HIGHEST_PROTOCOL)"
   ]
  },
  {
   "cell_type": "code",
   "execution_count": 33,
   "metadata": {},
   "outputs": [],
   "source": [
    "# Load data (deserialize)\n",
    "with open(\"scaffold_image_dict_v1.pickle\", \"rb\") as handle:\n",
    "    unserialized_data = pickle.load(handle)"
   ]
  },
  {
   "cell_type": "code",
   "execution_count": 169,
   "metadata": {},
   "outputs": [
    {
     "name": "stdout",
     "output_type": "stream",
     "text": [
      "25\n"
     ]
    },
    {
     "data": {
      "image/png": "[encoded data removed]",
      "text/plain": [
       "<Figure size 2160x360 with 1 Axes>"
      ]
     },
     "metadata": {
      "needs_background": "light"
     },
     "output_type": "display_data"
    },
    {
     "data": {
      "image/png": "[encoded data removed]",
      "text/plain": [
       "<Figure size 3600x360 with 1 Axes>"
      ]
     },
     "metadata": {
      "needs_background": "light"
     },
     "output_type": "display_data"
    },
    {
     "data": {
      "image/png": "[encoded data removed]",
      "text/plain": [
       "<Figure size 4320x360 with 1 Axes>"
      ]
     },
     "metadata": {
      "needs_background": "light"
     },
     "output_type": "display_data"
    },
    {
     "data": {
      "image/png": "[encoded data removed]",
      "text/plain": [
       "<Figure size 5760x360 with 1 Axes>"
      ]
     },
     "metadata": {
      "needs_background": "light"
     },
     "output_type": "display_data"
    }
   ],
   "source": [
    "locus = 436825\n",
    "visualization_locus(locus, FINAL_RGB)"
   ]
  },
  {
   "cell_type": "code",
   "execution_count": 55,
   "metadata": {},
   "outputs": [
    {
     "data": {
      "text/plain": [
       "array([[  0,   0,   0, ..., 100, 250, 170],\n",
       "       [  0,   0,   0, ...,   0,   0,   0],\n",
       "       [  0,   0,   0, ...,   0,   0,   0],\n",
       "       ...,\n",
       "       [  0,   0,   0, ...,   0,   0,   0],\n",
       "       [  0,   0,   0, ...,   0,   0,   0],\n",
       "       [  0,   0,   0, ...,   0,   0,   0]])"
      ]
     },
     "execution_count": 55,
     "metadata": {},
     "output_type": "execute_result"
    }
   ],
   "source": [
    "FINAL_RGB[1,:,:,0]"
   ]
  },
  {
   "cell_type": "code",
   "execution_count": 371,
   "metadata": {},
   "outputs": [
    {
     "data": {
      "image/png": "[encoded data removed]",
      "text/plain": [
       "<Figure size 3600x360 with 1 Axes>"
      ]
     },
     "metadata": {
      "needs_background": "light"
     },
     "output_type": "display_data"
    },
    {
     "data": {
      "image/png": "[encoded data removed]",
      "text/plain": [
       "<Figure size 3600x360 with 1 Axes>"
      ]
     },
     "metadata": {
      "needs_background": "light"
     },
     "output_type": "display_data"
    },
    {
     "data": {
      "image/png": "[encoded data removed]",
      "text/plain": [
       "<Figure size 3600x360 with 1 Axes>"
      ]
     },
     "metadata": {
      "needs_background": "light"
     },
     "output_type": "display_data"
    },
    {
     "data": {
      "image/png": "[encoded data removed]",
      "text/plain": [
       "<Figure size 3600x360 with 1 Axes>"
      ]
     },
     "metadata": {
      "needs_background": "light"
     },
     "output_type": "display_data"
    }
   ],
   "source": [
    "plt.figure(figsize=(50,5))\n",
    "plt.subplot(4,1,1)\n",
    "plt.imshow(pre_image_base_color[0,:,:],cmap='gray')\n",
    "plt.show()\n",
    "plt.figure(figsize=(50,5))\n",
    "plt.subplot(4,2,2)\n",
    "plt.imshow(pre_image_base_color[1,:,:],cmap='gray')\n",
    "plt.show()\n",
    "plt.figure(figsize=(50,5))\n",
    "plt.subplot(4,3,3)\n",
    "plt.imshow(pre_image_base_color[2,:,:],cmap='gray')\n",
    "plt.show()\n",
    "plt.figure(figsize=(50,5))\n",
    "plt.subplot(4,4,4)\n",
    "plt.imshow(pre_image_base_color[3,:,:],cmap='gray')\n",
    "plt.show()"
   ]
  },
  {
   "cell_type": "code",
   "execution_count": 388,
   "metadata": {},
   "outputs": [
    {
     "data": {
      "image/png": "[encoded data removed]",
      "text/plain": [
       "<Figure size 3600x360 with 1 Axes>"
      ]
     },
     "metadata": {
      "needs_background": "light"
     },
     "output_type": "display_data"
    },
    {
     "data": {
      "image/png": "[encoded data removed]",
      "text/plain": [
       "<Figure size 3600x360 with 1 Axes>"
      ]
     },
     "metadata": {
      "needs_background": "light"
     },
     "output_type": "display_data"
    },
    {
     "data": {
      "image/png": "[encoded data removed]",
      "text/plain": [
       "<Figure size 3600x360 with 1 Axes>"
      ]
     },
     "metadata": {
      "needs_background": "light"
     },
     "output_type": "display_data"
    },
    {
     "data": {
      "image/png": "[encoded data removed]",
      "text/plain": [
       "<Figure size 3600x360 with 1 Axes>"
      ]
     },
     "metadata": {
      "needs_background": "light"
     },
     "output_type": "display_data"
    }
   ],
   "source": [
    "plt.figure(figsize=(50,5))\n",
    "plt.subplot(4,1,1)\n",
    "plt.imshow(pre_image_match_ref[0,:,:],cmap='gray')\n",
    "plt.show()\n",
    "plt.figure(figsize=(50,5))\n",
    "plt.subplot(4,2,2)\n",
    "plt.imshow(pre_image_match_ref[1,:,:],cmap='gray')\n",
    "plt.show()\n",
    "plt.figure(figsize=(50,5))\n",
    "plt.subplot(4,3,3)\n",
    "plt.imshow(pre_image_match_ref[2,:,:],cmap='gray')\n",
    "plt.show()\n",
    "plt.figure(figsize=(50,5))\n",
    "plt.subplot(4,4,4)\n",
    "plt.imshow(pre_image_match_ref[3,:,:],cmap='gray')\n",
    "plt.show()"
   ]
  },
  {
   "cell_type": "code",
   "execution_count": 555,
   "metadata": {},
   "outputs": [],
   "source": []
  },
  {
   "cell_type": "code",
   "execution_count": 556,
   "metadata": {},
   "outputs": [
    {
     "data": {
      "text/plain": [
       "30"
      ]
     },
     "execution_count": 556,
     "metadata": {},
     "output_type": "execute_result"
    }
   ],
   "source": []
  },
  {
   "cell_type": "code",
   "execution_count": null,
   "metadata": {},
   "outputs": [],
   "source": []
  },
  {
   "cell_type": "code",
   "execution_count": null,
   "metadata": {
    "scrolled": true
   },
   "outputs": [],
   "source": []
  },
  {
   "cell_type": "code",
   "execution_count": null,
   "metadata": {},
   "outputs": [],
   "source": []
  }
 ],
 "metadata": {
  "kernelspec": {
   "display_name": "Python 3",
   "language": "python",
   "name": "python3"
  },
  "language_info": {
   "codemirror_mode": {
    "name": "ipython",
    "version": 3
   },
   "file_extension": ".py",
   "mimetype": "text/x-python",
   "name": "python",
   "nbconvert_exporter": "python",
   "pygments_lexer": "ipython3",
   "version": "3.5.2"
  }
 },
 "nbformat": 4,
 "nbformat_minor": 2
}
