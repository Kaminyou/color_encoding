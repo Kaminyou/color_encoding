{
 "cells": [
  {
   "cell_type": "code",
   "execution_count": 9,
   "metadata": {},
   "outputs": [],
   "source": [
    "import re\n",
    "import pandas as pd\n",
    "import matplotlib as plt\n",
    "import numpy as np\n",
    "import seaborn as sns"
   ]
  },
  {
   "cell_type": "code",
   "execution_count": 10,
   "metadata": {},
   "outputs": [],
   "source": [
    "'''\n",
    "Read fasta file\n",
    "'''\n",
    "#read fasta file\n",
    "fasta = np.loadtxt(\"termite_g1.fasta\",dtype=\"str\")\n",
    "\n",
    "#save the index of each scaffold: column[0]\n",
    "scaffold_index_fasta = [i for i,item in enumerate(fasta) if \">\" in item]\n",
    "scaffold_index_fasta = np.vstack(scaffold_index_fasta)\n",
    "\n",
    "#save the name of each scaffold: column[1]\n",
    "scaffold_name_fasta = fasta[scaffold_index_fasta]\n",
    "scaffold_name_fasta = np.char.replace(scaffold_name_fasta, \">\", \"\")\n",
    "scaffold_name_fasta = np.vstack(scaffold_name_fasta)\n",
    "\n",
    "#save the starting position: column[2]\n",
    "start_position_fasta = np.array(list((map(lambda x:x+1, scaffold_index_fasta))))\n",
    "start_position_fasta = np.vstack(start_position_fasta)\n",
    "\n",
    "#save the ending position: column[3]\n",
    "end_position_fasta = np.array(list((map(lambda x:x-1, scaffold_index_fasta))))\n",
    "end_position_fasta = np.append(end_position_fasta, [len(fasta)-1])\n",
    "end_position_fasta = end_position_fasta[1:]\n",
    "end_position_fasta = np.vstack(end_position_fasta)\n",
    "\n",
    "#save the number of base in the last row: colunm[4]\n",
    "ending_raw_fasta = []\n",
    "for i in end_position_fasta:\n",
    "    ending_raw_fasta.append(len(fasta[i][0]))\n",
    "ending_raw_fasta = np.array(ending_raw_fasta)\n",
    "ending_raw_fasta = np.vstack(ending_raw_fasta)\n",
    "\n",
    "#how many bases in one raw: not show\n",
    "base_one_raw_fasta = len(fasta[(scaffold_index_fasta[0]+1)][0])\n",
    "\n",
    "#save the number of base in one scaffold: column[5]\n",
    "total_base_fasta = (end_position_fasta - start_position_fasta)*base_one_raw_fasta + ending_raw_fasta\n",
    "total_base_fasta = np.vstack(total_base_fasta)\n",
    "\n",
    "#combine together\n",
    "fasta_matrix = np.concatenate((scaffold_index_fasta, \n",
    "                           scaffold_name_fasta, \n",
    "                           start_position_fasta, \n",
    "                           end_position_fasta, \n",
    "                           ending_raw_fasta, \n",
    "                           total_base_fasta), axis = 1)\n",
    "fasta_df = pd.DataFrame(fasta_matrix, columns = [\"scaffold_index_fasta\", \n",
    "                                                 \"scaffold_name_fasta\", \n",
    "                                                 \"start_position_fasta\", \n",
    "                                                 \"end_position_fasta\", \n",
    "                                                 \"ending_raw_fasta\", \n",
    "                                                 \"total_base_fasta\"]) \n",
    "fasta_df[\"scaffold_index_fasta\"] = fasta_df[\"scaffold_index_fasta\"].astype('int64')\n",
    "fasta_df[\"start_position_fasta\"] = fasta_df[\"start_position_fasta\"].astype('int64')\n",
    "fasta_df[\"end_position_fasta\"] = fasta_df[\"end_position_fasta\"].astype('int64')\n",
    "fasta_df[\"ending_raw_fasta\"] = fasta_df[\"ending_raw_fasta\"].astype('int64')\n",
    "fasta_df[\"total_base_fasta\"] = fasta_df[\"total_base_fasta\"].astype('int64')"
   ]
  },
  {
   "cell_type": "code",
   "execution_count": 11,
   "metadata": {},
   "outputs": [
    {
     "name": "stdout",
     "output_type": "stream",
     "text": [
      "summary_A:  1166189\n",
      "summary_T:  1127112\n",
      "summary_C:  778572\n",
      "summary_G:  743655\n",
      "summary_N:  10095\n",
      "total:  3825623\n"
     ]
    }
   ],
   "source": [
    "####################################### FOR PREPROCESSING ###########################################\n",
    "# Recheck the validity of fasta\n",
    "summary_N = 0\n",
    "summary_A = 0\n",
    "summary_T = 0\n",
    "summary_C= 0\n",
    "summary_G = 0\n",
    "for i in fasta[77245:115502]:\n",
    "    for base in i:\n",
    "        if base == \"N\":\n",
    "            summary_N += 1\n",
    "            continue\n",
    "        if base == \"A\":\n",
    "            summary_A += 1\n",
    "            continue\n",
    "        if base == \"T\":\n",
    "            summary_T += 1\n",
    "            continue\n",
    "        if base == \"C\":\n",
    "            summary_C += 1\n",
    "            continue\n",
    "        if base == \"G\":\n",
    "            summary_G += 1\n",
    "            continue\n",
    "        else:\n",
    "            print(base)\n",
    "print(\"summary_A: \",summary_A)\n",
    "print(\"summary_T: \",summary_T)\n",
    "print(\"summary_C: \",summary_C)\n",
    "print(\"summary_G: \",summary_G)\n",
    "print(\"summary_N: \",summary_N)\n",
    "print(\"total: \",(summary_A+summary_T+summary_C+summary_G+summary_N))"
   ]
  },
  {
   "cell_type": "code",
   "execution_count": 12,
   "metadata": {},
   "outputs": [
    {
     "ename": "AttributeError",
     "evalue": "module 'matplotlib' has no attribute 'ylabel'",
     "output_type": "error",
     "traceback": [
      "\u001b[0;31m---------------------------------------------------------------------------\u001b[0m",
      "\u001b[0;31mAttributeError\u001b[0m                            Traceback (most recent call last)",
      "\u001b[0;32m<ipython-input-12-454a5630dd04>\u001b[0m in \u001b[0;36m<module>\u001b[0;34m\u001b[0m\n\u001b[1;32m      2\u001b[0m \u001b[0;31m# To check the distribution of length of genome\u001b[0m\u001b[0;34m\u001b[0m\u001b[0;34m\u001b[0m\u001b[0m\n\u001b[1;32m      3\u001b[0m \u001b[0msns\u001b[0m\u001b[0;34m.\u001b[0m\u001b[0mdistplot\u001b[0m\u001b[0;34m(\u001b[0m\u001b[0mnp\u001b[0m\u001b[0;34m.\u001b[0m\u001b[0mlog10\u001b[0m\u001b[0;34m(\u001b[0m\u001b[0mfasta_df\u001b[0m\u001b[0;34m[\u001b[0m\u001b[0;34m\"total_base_fasta\"\u001b[0m\u001b[0;34m]\u001b[0m\u001b[0;34m)\u001b[0m\u001b[0;34m,\u001b[0m \u001b[0mbins\u001b[0m\u001b[0;34m=\u001b[0m\u001b[0;36m20\u001b[0m\u001b[0;34m,\u001b[0m \u001b[0mkde\u001b[0m\u001b[0;34m=\u001b[0m\u001b[0;32mFalse\u001b[0m\u001b[0;34m)\u001b[0m\u001b[0;34m\u001b[0m\u001b[0m\n\u001b[0;32m----> 4\u001b[0;31m \u001b[0mplt\u001b[0m\u001b[0;34m.\u001b[0m\u001b[0mylabel\u001b[0m\u001b[0;34m(\u001b[0m\u001b[0;34m\"Count\"\u001b[0m\u001b[0;34m)\u001b[0m\u001b[0;34m\u001b[0m\u001b[0m\n\u001b[0m\u001b[1;32m      5\u001b[0m \u001b[0mplt\u001b[0m\u001b[0;34m.\u001b[0m\u001b[0mxlabel\u001b[0m\u001b[0;34m(\u001b[0m\u001b[0;34m\"Length of one scaffold (10^x)\"\u001b[0m\u001b[0;34m)\u001b[0m\u001b[0;34m\u001b[0m\u001b[0m\n\u001b[1;32m      6\u001b[0m \u001b[0mplt\u001b[0m\u001b[0;34m.\u001b[0m\u001b[0mtitle\u001b[0m\u001b[0;34m(\u001b[0m\u001b[0;34m\"Distribution of length of genome\"\u001b[0m\u001b[0;34m)\u001b[0m\u001b[0;34m\u001b[0m\u001b[0m\n",
      "\u001b[0;31mAttributeError\u001b[0m: module 'matplotlib' has no attribute 'ylabel'"
     ]
    },
    {
     "data": {
      "image/png": "[encoded data removed]",
      "text/plain": [
       "<Figure size 432x288 with 1 Axes>"
      ]
     },
     "metadata": {
      "needs_background": "light"
     },
     "output_type": "display_data"
    }
   ],
   "source": [
    "####################################### FOR PREPROCESSING ###########################################\n",
    "# To check the distribution of length of genome\n",
    "sns.distplot(np.log10(fasta_df[\"total_base_fasta\"]), bins=20, kde=False)\n",
    "plt.ylabel(\"Count\")\n",
    "plt.xlabel(\"Length of one scaffold (10^x)\")\n",
    "plt.title(\"Distribution of length of genome\")\n",
    "plt.show()"
   ]
  },
  {
   "cell_type": "code",
   "execution_count": 13,
   "metadata": {},
   "outputs": [
    {
     "data": {
      "text/html": [
       "<div>\n",
       "<style scoped>\n",
       "    .dataframe tbody tr th:only-of-type {\n",
       "        vertical-align: middle;\n",
       "    }\n",
       "\n",
       "    .dataframe tbody tr th {\n",
       "        vertical-align: top;\n",
       "    }\n",
       "\n",
       "    .dataframe thead th {\n",
       "        text-align: right;\n",
       "    }\n",
       "</style>\n",
       "<table border=\"1\" class=\"dataframe\">\n",
       "  <thead>\n",
       "    <tr style=\"text-align: right;\">\n",
       "      <th></th>\n",
       "      <th>scaffold_index_fasta</th>\n",
       "      <th>scaffold_name_fasta</th>\n",
       "      <th>start_position_fasta</th>\n",
       "      <th>end_position_fasta</th>\n",
       "      <th>ending_raw_fasta</th>\n",
       "      <th>total_base_fasta</th>\n",
       "    </tr>\n",
       "  </thead>\n",
       "  <tbody>\n",
       "    <tr>\n",
       "      <th>786</th>\n",
       "      <td>8614270</td>\n",
       "      <td>scaffold825|size99767</td>\n",
       "      <td>8614271</td>\n",
       "      <td>8615268</td>\n",
       "      <td>67</td>\n",
       "      <td>99767</td>\n",
       "    </tr>\n",
       "    <tr>\n",
       "      <th>787</th>\n",
       "      <td>8615269</td>\n",
       "      <td>scaffold827|size99345</td>\n",
       "      <td>8615270</td>\n",
       "      <td>8616263</td>\n",
       "      <td>45</td>\n",
       "      <td>99345</td>\n",
       "    </tr>\n",
       "    <tr>\n",
       "      <th>788</th>\n",
       "      <td>8616264</td>\n",
       "      <td>scaffold828|size99263</td>\n",
       "      <td>8616265</td>\n",
       "      <td>8617257</td>\n",
       "      <td>64</td>\n",
       "      <td>99264</td>\n",
       "    </tr>\n",
       "    <tr>\n",
       "      <th>791</th>\n",
       "      <td>8619960</td>\n",
       "      <td>scaffold831|size97970</td>\n",
       "      <td>8619961</td>\n",
       "      <td>8620940</td>\n",
       "      <td>70</td>\n",
       "      <td>97970</td>\n",
       "    </tr>\n",
       "    <tr>\n",
       "      <th>792</th>\n",
       "      <td>8620941</td>\n",
       "      <td>scaffold832|size97822</td>\n",
       "      <td>8620942</td>\n",
       "      <td>8621920</td>\n",
       "      <td>22</td>\n",
       "      <td>97822</td>\n",
       "    </tr>\n",
       "  </tbody>\n",
       "</table>\n",
       "</div>"
      ],
      "text/plain": [
       "     scaffold_index_fasta    scaffold_name_fasta  start_position_fasta  \\\n",
       "786               8614270  scaffold825|size99767               8614271   \n",
       "787               8615269  scaffold827|size99345               8615270   \n",
       "788               8616264  scaffold828|size99263               8616265   \n",
       "791               8619960  scaffold831|size97970               8619961   \n",
       "792               8620941  scaffold832|size97822               8620942   \n",
       "\n",
       "     end_position_fasta  ending_raw_fasta  total_base_fasta  \n",
       "786             8615268                67             99767  \n",
       "787             8616263                45             99345  \n",
       "788             8617257                64             99264  \n",
       "791             8620940                70             97970  \n",
       "792             8621920                22             97822  "
      ]
     },
     "execution_count": 13,
     "metadata": {},
     "output_type": "execute_result"
    }
   ],
   "source": [
    "####################################### FOR PREPROCESSING ###########################################\n",
    "fasta_df[fasta_df[\"total_base_fasta\"] <= 100000].head()"
   ]
  },
  {
   "cell_type": "code",
   "execution_count": 14,
   "metadata": {},
   "outputs": [],
   "source": [
    "'''\n",
    "Read sam file\n",
    "'''\n",
    "# Read sam file\n",
    "sam=[]\n",
    "with open(\"isoseq_ccs_polished_hq_fasta_with_index_of_termite_g1_2018_9_7_ching_tien_wang.sam\", \"r\") as f:\n",
    "    for line in f.readlines():\n",
    "        sam.append(line.split(\"\\t\"))\n",
    "sam = np.array(sam)"
   ]
  },
  {
   "cell_type": "code",
   "execution_count": 15,
   "metadata": {},
   "outputs": [
    {
     "ename": "TypeError",
     "evalue": "'module' object is not callable",
     "output_type": "error",
     "traceback": [
      "\u001b[0;31m---------------------------------------------------------------------------\u001b[0m",
      "\u001b[0;31mTypeError\u001b[0m                                 Traceback (most recent call last)",
      "\u001b[0;32m<ipython-input-15-eabf67f56eb0>\u001b[0m in \u001b[0;36m<module>\u001b[0;34m\u001b[0m\n\u001b[1;32m      1\u001b[0m \u001b[0;31m####################################### FOR PREPROCESSING ###########################################\u001b[0m\u001b[0;34m\u001b[0m\u001b[0;34m\u001b[0m\u001b[0m\n\u001b[1;32m      2\u001b[0m \u001b[0;31m# MAKE A DISTRIBUTION OF MAPPING QUALITY\u001b[0m\u001b[0;34m\u001b[0m\u001b[0;34m\u001b[0m\u001b[0m\n\u001b[0;32m----> 3\u001b[0;31m \u001b[0mplt\u001b[0m\u001b[0;34m.\u001b[0m\u001b[0mfigure\u001b[0m\u001b[0;34m(\u001b[0m\u001b[0mfigsize\u001b[0m\u001b[0;34m=\u001b[0m\u001b[0;34m(\u001b[0m\u001b[0;36m20\u001b[0m\u001b[0;34m,\u001b[0m\u001b[0;36m5\u001b[0m\u001b[0;34m)\u001b[0m\u001b[0;34m)\u001b[0m\u001b[0;34m\u001b[0m\u001b[0m\n\u001b[0m\u001b[1;32m      4\u001b[0m \u001b[0mx\u001b[0m \u001b[0;34m=\u001b[0m \u001b[0mnp\u001b[0m\u001b[0;34m.\u001b[0m\u001b[0munique\u001b[0m\u001b[0;34m(\u001b[0m\u001b[0mmapping_q_dist\u001b[0m\u001b[0;34m,\u001b[0m \u001b[0mreturn_counts\u001b[0m\u001b[0;34m=\u001b[0m\u001b[0;32mTrue\u001b[0m\u001b[0;34m)\u001b[0m\u001b[0;34m[\u001b[0m\u001b[0;36m0\u001b[0m\u001b[0;34m]\u001b[0m\u001b[0;34m\u001b[0m\u001b[0m\n\u001b[1;32m      5\u001b[0m \u001b[0my\u001b[0m \u001b[0;34m=\u001b[0m \u001b[0mnp\u001b[0m\u001b[0;34m.\u001b[0m\u001b[0munique\u001b[0m\u001b[0;34m(\u001b[0m\u001b[0mmapping_q_dist\u001b[0m\u001b[0;34m,\u001b[0m \u001b[0mreturn_counts\u001b[0m\u001b[0;34m=\u001b[0m\u001b[0;32mTrue\u001b[0m\u001b[0;34m)\u001b[0m\u001b[0;34m[\u001b[0m\u001b[0;36m1\u001b[0m\u001b[0;34m]\u001b[0m\u001b[0;34m\u001b[0m\u001b[0m\n",
      "\u001b[0;31mTypeError\u001b[0m: 'module' object is not callable"
     ]
    }
   ],
   "source": [
    "####################################### FOR PREPROCESSING ###########################################\n",
    "# MAKE A DISTRIBUTION OF MAPPING QUALITY\n",
    "plt.figure(figsize=(20,5))\n",
    "x = np.unique(mapping_q_dist, return_counts=True)[0]\n",
    "y = np.unique(mapping_q_dist, return_counts=True)[1]\n",
    "sns.barplot(x,np.log10(y),color=\"bule\")\n",
    "plt.ylabel(\"Count (10^x)\")\n",
    "plt.xlabel(\"Mapping quality\")\n",
    "plt.title(\"Distribution of mapping quality\")\n",
    "plt.show()"
   ]
  },
  {
   "cell_type": "code",
   "execution_count": 16,
   "metadata": {},
   "outputs": [],
   "source": [
    "####################################### FOR PREPROCESSING ###########################################\n",
    "# MAKE A DISTRIBUTION OF LENGTH OF SCAFFOLD AND ITS LENGTH OF READS\n",
    "read_number_dist = []\n",
    "scaffold_length_dist = []\n",
    "for k, j in zip(fasta_df[\"total_base_fasta\"], fasta_df[\"scaffold_name_fasta\"]):\n",
    "    scaffold_name = j\n",
    "    # Find index of selected scaffold in bam\n",
    "    scaffold_in_sam = list([i for i,item in enumerate(sam) if scaffold_name in item])\n",
    "\n",
    "    # Make a DataFrame for selected scaffold information\n",
    "    ### Mide different sam type待解決\n",
    "    selected_scaffold_df = [sam[i] for i in scaffold_in_sam]\n",
    "    selected_scaffold_df = pd.DataFrame(selected_scaffold_df)\n",
    "    read_number_dist.append(selected_scaffold_df.shape[0])\n",
    "    scaffold_length_dist.append(k)"
   ]
  },
  {
   "cell_type": "code",
   "execution_count": null,
   "metadata": {},
   "outputs": [],
   "source": [
    "####################################### FOR PREPROCESSING ###########################################\n",
    "# MAKE A DISTRIBUTION OF LENGTH OF SCAFFOLD AND ITS LENGTH OF READS\n",
    "read_number_dist_delete_500 = []\n",
    "for i in read_number_dist:\n",
    "    if i >= 500:\n",
    "        read_number_dist_delete_500.append(0)\n",
    "    else:\n",
    "        read_number_dist_delete_500.append(i)\n",
    "sns.set()\n",
    "sns.scatterplot(np.log10(scaffold_length_dist),read_number_dist_delete_500)\n",
    "plt.ylabel(\"Count\")\n",
    "plt.xlabel(\"Length of one scaffold (10^x)\")\n",
    "plt.title(\"Distribution of number of reads by length of scaffold\")\n",
    "plt.show()"
   ]
  },
  {
   "cell_type": "code",
   "execution_count": null,
   "metadata": {},
   "outputs": [],
   "source": [
    "####################################### FOR PREPROCESSING ###########################################\n",
    "sns.distplot(to_use_selected_scaffold_df[\"read length\"], bins=60, kde=False)\n",
    "plt.ylabel(\"Count\")\n",
    "plt.xlabel(\"Length of reads\")\n",
    "plt.title(\"Distribution of length of reads of scaffold825|size99767\")\n",
    "plt.show()"
   ]
  },
  {
   "cell_type": "code",
   "execution_count": null,
   "metadata": {},
   "outputs": [],
   "source": [
    "####################################### FOR PREPROCESSING ###########################################\n",
    "sns.distplot(to_use_selected_scaffold_df[\"mapping quality\"], bins=50, kde=False)\n",
    "plt.ylabel(\"Count\")\n",
    "plt.xlabel(\"Mapping quality\")\n",
    "plt.title(\"Distribution of mapping quality of scaffold800|size117680\")\n",
    "plt.show()"
   ]
  },
  {
   "cell_type": "code",
   "execution_count": null,
   "metadata": {},
   "outputs": [],
   "source": []
  }
 ],
 "metadata": {
  "kernelspec": {
   "display_name": "Python 3",
   "language": "python",
   "name": "python3"
  },
  "language_info": {
   "codemirror_mode": {
    "name": "ipython",
    "version": 3
   },
   "file_extension": ".py",
   "mimetype": "text/x-python",
   "name": "python",
   "nbconvert_exporter": "python",
   "pygments_lexer": "ipython3",
   "version": "3.5.2"
  }
 },
 "nbformat": 4,
 "nbformat_minor": 2
}
